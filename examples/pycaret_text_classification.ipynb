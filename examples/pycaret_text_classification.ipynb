{
 "cells": [
  {
   "cell_type": "markdown",
   "id": "fa623ec4ded24264",
   "metadata": {},
   "source": [
    "# Entrenamiento y Evaluación de Modelos de Machine Learning con PyCaret y MLflow\n",
    "\n",
    "Este notebook demuestra el uso de **PyCaret**, una biblioteca de aprendizaje automático automatizado (**AutoML**),\n",
    "para entrenar y evaluar modelos de clasificación de sentimientos. PyCaret permite probar múltiples algoritmos\n",
    "de forma rápida, optimizar hiperparámetros y generar métricas detalladas con solo unas pocas líneas de código.\n",
    "\n",
    "Además, se integra **MLflow**, una plataforma de gestión del ciclo de vida de modelos de Machine Learning,\n",
    "para rastrear experimentos, registrar métricas y facilitar la comparabilidad entre diferentes modelos entrenados."
   ]
  },
  {
   "cell_type": "code",
   "execution_count": 1,
   "id": "initial_id",
   "metadata": {
    "ExecuteTime": {
     "end_time": "2025-03-01T01:08:42.064469Z",
     "start_time": "2025-03-01T01:08:42.059469Z"
    },
    "collapsed": true,
    "jupyter": {
     "outputs_hidden": true
    }
   },
   "outputs": [],
   "source": [
    "# Para la primera ejecución del código, es necesario instalar las librerías requeridas.\n",
    "# Descomenta la siguiente línea y ejecútala si aún no tienes las dependencias instaladas.\n",
    "# !pip install pandas mlflow==2.16.0 pickle5 imbalanced-learn pycaret scikit-learn"
   ]
  },
  {
   "cell_type": "code",
   "execution_count": 2,
   "id": "4edc39ed005b5eb8",
   "metadata": {
    "ExecuteTime": {
     "end_time": "2025-03-01T01:08:45.935501Z",
     "start_time": "2025-03-01T01:08:42.066971Z"
    }
   },
   "outputs": [],
   "source": [
    "#Importamos las librerias necesarias\n",
    "import pandas as pd\n",
    "import mlflow\n",
    "import pickle\n",
    "from collections import Counter\n",
    "from pycaret.classification import *\n",
    "from imblearn.over_sampling import RandomOverSampler\n",
    "from logic.text_processing import TextProcessing\n",
    "from sklearn.preprocessing import LabelEncoder\n",
    "from sklearn.feature_extraction.text import CountVectorizer, TfidfVectorizer"
   ]
  },
  {
   "cell_type": "code",
   "execution_count": 3,
   "id": "b4ab61472ac2778c",
   "metadata": {
    "ExecuteTime": {
     "end_time": "2025-03-01T01:08:46.216621Z",
     "start_time": "2025-03-01T01:08:46.187006Z"
    }
   },
   "outputs": [
    {
     "data": {
      "text/html": [
       "<div>\n",
       "<style scoped>\n",
       "    .dataframe tbody tr th:only-of-type {\n",
       "        vertical-align: middle;\n",
       "    }\n",
       "\n",
       "    .dataframe tbody tr th {\n",
       "        vertical-align: top;\n",
       "    }\n",
       "\n",
       "    .dataframe thead th {\n",
       "        text-align: right;\n",
       "    }\n",
       "</style>\n",
       "<table border=\"1\" class=\"dataframe\">\n",
       "  <thead>\n",
       "    <tr style=\"text-align: right;\">\n",
       "      <th></th>\n",
       "      <th>tweetid</th>\n",
       "      <th>user</th>\n",
       "      <th>content</th>\n",
       "      <th>date</th>\n",
       "      <th>lang</th>\n",
       "      <th>sentiment/polarity/value</th>\n",
       "    </tr>\n",
       "  </thead>\n",
       "  <tbody>\n",
       "    <tr>\n",
       "      <th>0</th>\n",
       "      <td>768213876278165504</td>\n",
       "      <td>OnceBukowski</td>\n",
       "      <td>-Me caes muy bien \\r\\n-Tienes que jugar más pa...</td>\n",
       "      <td>2016-08-23 22:30:35</td>\n",
       "      <td>es</td>\n",
       "      <td>NONE</td>\n",
       "    </tr>\n",
       "    <tr>\n",
       "      <th>1</th>\n",
       "      <td>768213567418036224</td>\n",
       "      <td>anahorxn</td>\n",
       "      <td>@myendlesshazza a. que puto mal escribo\\r\\n\\r\\...</td>\n",
       "      <td>2016-08-23 22:29:21</td>\n",
       "      <td>es</td>\n",
       "      <td>N</td>\n",
       "    </tr>\n",
       "    <tr>\n",
       "      <th>2</th>\n",
       "      <td>768212591105703936</td>\n",
       "      <td>martitarey13</td>\n",
       "      <td>@estherct209 jajajaja la tuya y la d mucha gen...</td>\n",
       "      <td>2016-08-23 22:25:29</td>\n",
       "      <td>es</td>\n",
       "      <td>N</td>\n",
       "    </tr>\n",
       "    <tr>\n",
       "      <th>3</th>\n",
       "      <td>768221670255493120</td>\n",
       "      <td>endlessmilerr</td>\n",
       "      <td>Quiero mogollón a @AlbaBenito99 pero sobretodo...</td>\n",
       "      <td>2016-08-23 23:01:33</td>\n",
       "      <td>es</td>\n",
       "      <td>P</td>\n",
       "    </tr>\n",
       "    <tr>\n",
       "      <th>4</th>\n",
       "      <td>768221021300264964</td>\n",
       "      <td>JunoWTFL</td>\n",
       "      <td>Vale he visto la tia bebiendose su regla y me ...</td>\n",
       "      <td>2016-08-23 22:58:58</td>\n",
       "      <td>es</td>\n",
       "      <td>N</td>\n",
       "    </tr>\n",
       "  </tbody>\n",
       "</table>\n",
       "</div>"
      ],
      "text/plain": [
       "              tweetid           user  \\\n",
       "0  768213876278165504   OnceBukowski   \n",
       "1  768213567418036224       anahorxn   \n",
       "2  768212591105703936   martitarey13   \n",
       "3  768221670255493120  endlessmilerr   \n",
       "4  768221021300264964       JunoWTFL   \n",
       "\n",
       "                                             content                 date  \\\n",
       "0  -Me caes muy bien \\r\\n-Tienes que jugar más pa...  2016-08-23 22:30:35   \n",
       "1  @myendlesshazza a. que puto mal escribo\\r\\n\\r\\...  2016-08-23 22:29:21   \n",
       "2  @estherct209 jajajaja la tuya y la d mucha gen...  2016-08-23 22:25:29   \n",
       "3  Quiero mogollón a @AlbaBenito99 pero sobretodo...  2016-08-23 23:01:33   \n",
       "4  Vale he visto la tia bebiendose su regla y me ...  2016-08-23 22:58:58   \n",
       "\n",
       "  lang sentiment/polarity/value  \n",
       "0   es                     NONE  \n",
       "1   es                        N  \n",
       "2   es                        N  \n",
       "3   es                        P  \n",
       "4   es                        N  "
      ]
     },
     "execution_count": 3,
     "metadata": {},
     "output_type": "execute_result"
    }
   ],
   "source": [
    "# Cargamos el conjunto de datos de entrenamiento desde un archivo CSV\n",
    "data_train = pd.read_csv('data/tass/tass2018_es_train.csv', sep=',')\n",
    "\n",
    "# Cargamos el conjunto de datos de prueba desde un archivo CSV\n",
    "data_test = pd.read_csv('data/tass/tass2018_es_test.csv', sep=',')\n",
    "\n",
    "# Combinamos ambos conjuntos de datos en un solo DataFrame\n",
    "data_bow = pd.concat([data_train, data_test])\n",
    "\n",
    "# Mostramos las primeras filas del DataFrame combinado para inspeccionar los datos\n",
    "data_bow.head()"
   ]
  },
  {
   "cell_type": "code",
   "execution_count": 4,
   "id": "3725827078ee5ad2",
   "metadata": {
    "ExecuteTime": {
     "end_time": "2025-03-01T01:08:46.560412Z",
     "start_time": "2025-03-01T01:08:46.264097Z"
    }
   },
   "outputs": [
    {
     "name": "stdout",
     "output_type": "stream",
     "text": [
      "Language: Text Processing\n",
      "es: ['tok2vec', 'morphologizer', 'parser', 'attribute_ruler', 'lemmatizer', 'ner']\n"
     ]
    }
   ],
   "source": [
    "# Creamos una instancia de la clase TextProcessing, para procesar texto.\n",
    "tp = TextProcessing()\n",
    "\n",
    "# Creamos una instancia de LabelEncoder, utilizada para convertir etiquetas categóricas en valores numéricos.\n",
    "le = LabelEncoder()"
   ]
  },
  {
   "cell_type": "code",
   "execution_count": 5,
   "id": "5be9ff273a1db9ef",
   "metadata": {
    "ExecuteTime": {
     "end_time": "2025-03-01T01:08:46.622993Z",
     "start_time": "2025-03-01T01:08:46.593282Z"
    }
   },
   "outputs": [],
   "source": [
    "# Aplicamos la transformación de texto a cada fila de la columna 'content' del DataFrame.\n",
    "x = [tp.transformer(row) for row in data_bow['content'].tolist()]\n",
    "\n",
    "# Extraemos la columna de etiquetas 'sentiment/polarity/value'\n",
    "y = data_bow['sentiment/polarity/value']"
   ]
  },
  {
   "cell_type": "code",
   "execution_count": 6,
   "id": "2e7960f0a08ad7cf",
   "metadata": {
    "ExecuteTime": {
     "end_time": "2025-03-01T01:08:46.638518Z",
     "start_time": "2025-03-01T01:08:46.626498Z"
    }
   },
   "outputs": [],
   "source": [
    "# Creamos una instancia de CountVectorizer para convertir el texto en una representación numérica basada en la frecuencia de palabras.\n",
    "# - analyzer='word': Se procesan palabras individuales.\n",
    "# - ngram_range=(1, 3): Se consideran unigramas (palabras individuales), bigramas (pares de palabras) y trigramas (tres palabras consecutivas).\n",
    "bow = CountVectorizer(analyzer='word', ngram_range=(1, 3))\n",
    "\n",
    "# Se deja comentada una posible alternativa: TfidfVectorizer.\n",
    "# tv = TfidfVectorizer(analyzer='word', ngram_range=(1, 3))"
   ]
  },
  {
   "cell_type": "code",
   "execution_count": 7,
   "id": "c72748b41cbc4c2f",
   "metadata": {
    "ExecuteTime": {
     "end_time": "2025-03-01T01:08:46.715569Z",
     "start_time": "2025-03-01T01:08:46.655548Z"
    }
   },
   "outputs": [],
   "source": [
    "# Convertimos el texto procesado en una representación numérica mediante el modelo Bag of Words (BoW).\n",
    "# 'fit_transform()' ajusta el vectorizador a los datos y luego los transforma en una matriz dispersa de características.\n",
    "x = bow.fit_transform(x)"
   ]
  },
  {
   "cell_type": "code",
   "execution_count": 8,
   "id": "77c500a61a6a9350",
   "metadata": {
    "ExecuteTime": {
     "end_time": "2025-03-01T01:08:46.763112Z",
     "start_time": "2025-03-01T01:08:46.732583Z"
    }
   },
   "outputs": [
    {
     "data": {
      "text/plain": [
       "array([[0, 0, 0, ..., 0, 0, 0],\n",
       "       [0, 0, 0, ..., 0, 0, 0],\n",
       "       [0, 0, 0, ..., 0, 0, 0],\n",
       "       ...,\n",
       "       [0, 0, 0, ..., 0, 0, 0],\n",
       "       [0, 0, 0, ..., 0, 0, 0],\n",
       "       [0, 0, 0, ..., 0, 0, 0]], dtype=int64)"
      ]
     },
     "execution_count": 8,
     "metadata": {},
     "output_type": "execute_result"
    }
   ],
   "source": [
    "# Convertimos la matriz dispersa a una matriz densa de tipo numpy array.\n",
    "x.toarray()"
   ]
  },
  {
   "cell_type": "code",
   "execution_count": 9,
   "id": "465cfed769d2491d",
   "metadata": {
    "ExecuteTime": {
     "end_time": "2025-03-01T01:08:46.935461Z",
     "start_time": "2025-03-01T01:08:46.921329Z"
    }
   },
   "outputs": [
    {
     "name": "stdout",
     "output_type": "stream",
     "text": [
      "**Sample train: [('N', 637), ('NEU', 202), ('NONE', 201), ('P', 474)]\n"
     ]
    }
   ],
   "source": [
    "# Contamos la cantidad de ocurrencias de cada categoría en 'y' y las mostramos ordenadas\n",
    "print('**Sample train:', sorted(Counter(y).items()))"
   ]
  },
  {
   "cell_type": "code",
   "execution_count": 10,
   "id": "d3290af03c90f12b",
   "metadata": {
    "ExecuteTime": {
     "end_time": "2025-03-01T01:08:46.951274Z",
     "start_time": "2025-03-01T01:08:46.940763Z"
    }
   },
   "outputs": [
    {
     "name": "stdout",
     "output_type": "stream",
     "text": [
      "**OverSample train: [('N', 637), ('NEU', 637), ('NONE', 637), ('P', 637)]\n"
     ]
    }
   ],
   "source": [
    "# Creamos una instancia de RandomOverSampler para balancear las clases.\n",
    "# - random_state=10000: Se establece una semilla para reproducibilidad.\n",
    "ros = RandomOverSampler(random_state=10000)\n",
    "\n",
    "# Aplicamos el sobremuestreo para generar nuevas instancias de las clases minoritarias hasta igualar la cantidad de la clase mayoritaria.\n",
    "x, y = ros.fit_resample(x, y)\n",
    "\n",
    "# Mostramos la distribución de clases después del sobremuestreo.\n",
    "print('**OverSample train:', sorted(Counter(y).items()))"
   ]
  },
  {
   "cell_type": "code",
   "execution_count": 11,
   "id": "8481d2a57cb415eb",
   "metadata": {
    "ExecuteTime": {
     "end_time": "2025-03-01T01:11:04.531464Z",
     "start_time": "2025-03-01T01:08:47.045538Z"
    }
   },
   "outputs": [
    {
     "data": {
      "text/html": [
       "<style type=\"text/css\">\n",
       "#T_a7cf7_row9_col1 {\n",
       "  background-color: lightgreen;\n",
       "}\n",
       "</style>\n",
       "<table id=\"T_a7cf7\">\n",
       "  <thead>\n",
       "    <tr>\n",
       "      <th class=\"blank level0\" >&nbsp;</th>\n",
       "      <th id=\"T_a7cf7_level0_col0\" class=\"col_heading level0 col0\" >Description</th>\n",
       "      <th id=\"T_a7cf7_level0_col1\" class=\"col_heading level0 col1\" >Value</th>\n",
       "    </tr>\n",
       "  </thead>\n",
       "  <tbody>\n",
       "    <tr>\n",
       "      <th id=\"T_a7cf7_level0_row0\" class=\"row_heading level0 row0\" >0</th>\n",
       "      <td id=\"T_a7cf7_row0_col0\" class=\"data row0 col0\" >Session id</td>\n",
       "      <td id=\"T_a7cf7_row0_col1\" class=\"data row0 col1\" >123</td>\n",
       "    </tr>\n",
       "    <tr>\n",
       "      <th id=\"T_a7cf7_level0_row1\" class=\"row_heading level0 row1\" >1</th>\n",
       "      <td id=\"T_a7cf7_row1_col0\" class=\"data row1 col0\" >Target</td>\n",
       "      <td id=\"T_a7cf7_row1_col1\" class=\"data row1 col1\" >sentiment/polarity/value</td>\n",
       "    </tr>\n",
       "    <tr>\n",
       "      <th id=\"T_a7cf7_level0_row2\" class=\"row_heading level0 row2\" >2</th>\n",
       "      <td id=\"T_a7cf7_row2_col0\" class=\"data row2 col0\" >Target type</td>\n",
       "      <td id=\"T_a7cf7_row2_col1\" class=\"data row2 col1\" >Multiclass</td>\n",
       "    </tr>\n",
       "    <tr>\n",
       "      <th id=\"T_a7cf7_level0_row3\" class=\"row_heading level0 row3\" >3</th>\n",
       "      <td id=\"T_a7cf7_row3_col0\" class=\"data row3 col0\" >Target mapping</td>\n",
       "      <td id=\"T_a7cf7_row3_col1\" class=\"data row3 col1\" >N: 0, NEU: 1, NONE: 2, P: 3</td>\n",
       "    </tr>\n",
       "    <tr>\n",
       "      <th id=\"T_a7cf7_level0_row4\" class=\"row_heading level0 row4\" >4</th>\n",
       "      <td id=\"T_a7cf7_row4_col0\" class=\"data row4 col0\" >Original data shape</td>\n",
       "      <td id=\"T_a7cf7_row4_col1\" class=\"data row4 col1\" >(2548, 37293)</td>\n",
       "    </tr>\n",
       "    <tr>\n",
       "      <th id=\"T_a7cf7_level0_row5\" class=\"row_heading level0 row5\" >5</th>\n",
       "      <td id=\"T_a7cf7_row5_col0\" class=\"data row5 col0\" >Transformed data shape</td>\n",
       "      <td id=\"T_a7cf7_row5_col1\" class=\"data row5 col1\" >(2548, 37293)</td>\n",
       "    </tr>\n",
       "    <tr>\n",
       "      <th id=\"T_a7cf7_level0_row6\" class=\"row_heading level0 row6\" >6</th>\n",
       "      <td id=\"T_a7cf7_row6_col0\" class=\"data row6 col0\" >Transformed train set shape</td>\n",
       "      <td id=\"T_a7cf7_row6_col1\" class=\"data row6 col1\" >(1783, 37293)</td>\n",
       "    </tr>\n",
       "    <tr>\n",
       "      <th id=\"T_a7cf7_level0_row7\" class=\"row_heading level0 row7\" >7</th>\n",
       "      <td id=\"T_a7cf7_row7_col0\" class=\"data row7 col0\" >Transformed test set shape</td>\n",
       "      <td id=\"T_a7cf7_row7_col1\" class=\"data row7 col1\" >(765, 37293)</td>\n",
       "    </tr>\n",
       "    <tr>\n",
       "      <th id=\"T_a7cf7_level0_row8\" class=\"row_heading level0 row8\" >8</th>\n",
       "      <td id=\"T_a7cf7_row8_col0\" class=\"data row8 col0\" >Numeric features</td>\n",
       "      <td id=\"T_a7cf7_row8_col1\" class=\"data row8 col1\" >37292</td>\n",
       "    </tr>\n",
       "    <tr>\n",
       "      <th id=\"T_a7cf7_level0_row9\" class=\"row_heading level0 row9\" >9</th>\n",
       "      <td id=\"T_a7cf7_row9_col0\" class=\"data row9 col0\" >Preprocess</td>\n",
       "      <td id=\"T_a7cf7_row9_col1\" class=\"data row9 col1\" >True</td>\n",
       "    </tr>\n",
       "    <tr>\n",
       "      <th id=\"T_a7cf7_level0_row10\" class=\"row_heading level0 row10\" >10</th>\n",
       "      <td id=\"T_a7cf7_row10_col0\" class=\"data row10 col0\" >Imputation type</td>\n",
       "      <td id=\"T_a7cf7_row10_col1\" class=\"data row10 col1\" >simple</td>\n",
       "    </tr>\n",
       "    <tr>\n",
       "      <th id=\"T_a7cf7_level0_row11\" class=\"row_heading level0 row11\" >11</th>\n",
       "      <td id=\"T_a7cf7_row11_col0\" class=\"data row11 col0\" >Numeric imputation</td>\n",
       "      <td id=\"T_a7cf7_row11_col1\" class=\"data row11 col1\" >mean</td>\n",
       "    </tr>\n",
       "    <tr>\n",
       "      <th id=\"T_a7cf7_level0_row12\" class=\"row_heading level0 row12\" >12</th>\n",
       "      <td id=\"T_a7cf7_row12_col0\" class=\"data row12 col0\" >Categorical imputation</td>\n",
       "      <td id=\"T_a7cf7_row12_col1\" class=\"data row12 col1\" >mode</td>\n",
       "    </tr>\n",
       "    <tr>\n",
       "      <th id=\"T_a7cf7_level0_row13\" class=\"row_heading level0 row13\" >13</th>\n",
       "      <td id=\"T_a7cf7_row13_col0\" class=\"data row13 col0\" >Fold Generator</td>\n",
       "      <td id=\"T_a7cf7_row13_col1\" class=\"data row13 col1\" >StratifiedKFold</td>\n",
       "    </tr>\n",
       "    <tr>\n",
       "      <th id=\"T_a7cf7_level0_row14\" class=\"row_heading level0 row14\" >14</th>\n",
       "      <td id=\"T_a7cf7_row14_col0\" class=\"data row14 col0\" >Fold Number</td>\n",
       "      <td id=\"T_a7cf7_row14_col1\" class=\"data row14 col1\" >10</td>\n",
       "    </tr>\n",
       "    <tr>\n",
       "      <th id=\"T_a7cf7_level0_row15\" class=\"row_heading level0 row15\" >15</th>\n",
       "      <td id=\"T_a7cf7_row15_col0\" class=\"data row15 col0\" >CPU Jobs</td>\n",
       "      <td id=\"T_a7cf7_row15_col1\" class=\"data row15 col1\" >-1</td>\n",
       "    </tr>\n",
       "    <tr>\n",
       "      <th id=\"T_a7cf7_level0_row16\" class=\"row_heading level0 row16\" >16</th>\n",
       "      <td id=\"T_a7cf7_row16_col0\" class=\"data row16 col0\" >Use GPU</td>\n",
       "      <td id=\"T_a7cf7_row16_col1\" class=\"data row16 col1\" >False</td>\n",
       "    </tr>\n",
       "    <tr>\n",
       "      <th id=\"T_a7cf7_level0_row17\" class=\"row_heading level0 row17\" >17</th>\n",
       "      <td id=\"T_a7cf7_row17_col0\" class=\"data row17 col0\" >Log Experiment</td>\n",
       "      <td id=\"T_a7cf7_row17_col1\" class=\"data row17 col1\" >MlflowLogger</td>\n",
       "    </tr>\n",
       "    <tr>\n",
       "      <th id=\"T_a7cf7_level0_row18\" class=\"row_heading level0 row18\" >18</th>\n",
       "      <td id=\"T_a7cf7_row18_col0\" class=\"data row18 col0\" >Experiment Name</td>\n",
       "      <td id=\"T_a7cf7_row18_col1\" class=\"data row18 col1\" >experiment_tass</td>\n",
       "    </tr>\n",
       "    <tr>\n",
       "      <th id=\"T_a7cf7_level0_row19\" class=\"row_heading level0 row19\" >19</th>\n",
       "      <td id=\"T_a7cf7_row19_col0\" class=\"data row19 col0\" >USI</td>\n",
       "      <td id=\"T_a7cf7_row19_col1\" class=\"data row19 col1\" >629b</td>\n",
       "    </tr>\n",
       "  </tbody>\n",
       "</table>\n"
      ],
      "text/plain": [
       "<pandas.io.formats.style.Styler at 0x21bcdbfd1b0>"
      ]
     },
     "metadata": {},
     "output_type": "display_data"
    },
    {
     "name": "stderr",
     "output_type": "stream",
     "text": [
      "2025/02/28 20:11:03 INFO mlflow.tracking.fluent: Experiment with name 'experiment_tass' does not exist. Creating a new experiment.\n"
     ]
    }
   ],
   "source": [
    "# Configuramos el entorno de PyCaret para el modelado de clasificación.\n",
    "setup = setup(\n",
    "    data=x,                 # Conjunto de datos de entrada (matriz de características)\n",
    "    target=y,               # Variable objetivo (etiquetas de clasificación)\n",
    "    session_id=123,         # Semilla aleatoria para garantizar reproducibilidad\n",
    "    train_size=0.7,         # Porcentaje de datos usados para entrenamiento (70%)\n",
    "    log_experiment=True,    # Habilita el registro de experimentos (mlflow)\n",
    "    experiment_name='experiment_tass'  # Nombre del experimento para seguimiento (mlflow)\n",
    ")"
   ]
  },
  {
   "cell_type": "code",
   "execution_count": 12,
   "id": "41b45b5260d2e115",
   "metadata": {
    "ExecuteTime": {
     "end_time": "2025-03-01T01:25:20.753513Z",
     "start_time": "2025-03-01T01:11:04.840574Z"
    }
   },
   "outputs": [
    {
     "data": {
      "text/html": [
       "<div>\n",
       "<style scoped>\n",
       "    .dataframe tbody tr th:only-of-type {\n",
       "        vertical-align: middle;\n",
       "    }\n",
       "\n",
       "    .dataframe tbody tr th {\n",
       "        vertical-align: top;\n",
       "    }\n",
       "\n",
       "    .dataframe thead th {\n",
       "        text-align: right;\n",
       "    }\n",
       "</style>\n",
       "<table border=\"1\" class=\"dataframe\">\n",
       "  <thead>\n",
       "    <tr style=\"text-align: right;\">\n",
       "      <th></th>\n",
       "      <th></th>\n",
       "      <th></th>\n",
       "    </tr>\n",
       "    <tr>\n",
       "      <th></th>\n",
       "      <th></th>\n",
       "      <th></th>\n",
       "    </tr>\n",
       "  </thead>\n",
       "  <tbody>\n",
       "    <tr>\n",
       "      <th>Initiated</th>\n",
       "      <td>. . . . . . . . . . . . . . . . . .</td>\n",
       "      <td>20:11:09</td>\n",
       "    </tr>\n",
       "    <tr>\n",
       "      <th>Status</th>\n",
       "      <td>. . . . . . . . . . . . . . . . . .</td>\n",
       "      <td>Loading Dependencies</td>\n",
       "    </tr>\n",
       "    <tr>\n",
       "      <th>Estimator</th>\n",
       "      <td>. . . . . . . . . . . . . . . . . .</td>\n",
       "      <td>Compiling Library</td>\n",
       "    </tr>\n",
       "  </tbody>\n",
       "</table>\n",
       "</div>"
      ],
      "text/plain": [
       "                                                                    \n",
       "                                                                    \n",
       "Initiated  . . . . . . . . . . . . . . . . . .              20:11:09\n",
       "Status     . . . . . . . . . . . . . . . . . .  Loading Dependencies\n",
       "Estimator  . . . . . . . . . . . . . . . . . .     Compiling Library"
      ]
     },
     "metadata": {},
     "output_type": "display_data"
    },
    {
     "data": {
      "text/html": [],
      "text/plain": [
       "<IPython.core.display.HTML object>"
      ]
     },
     "metadata": {},
     "output_type": "display_data"
    },
    {
     "data": {
      "text/html": [
       "<style type=\"text/css\">\n",
       "#T_b7cff th {\n",
       "  text-align: left;\n",
       "}\n",
       "#T_b7cff_row0_col0, #T_b7cff_row0_col4, #T_b7cff_row0_col7, #T_b7cff_row1_col0, #T_b7cff_row1_col1, #T_b7cff_row1_col2, #T_b7cff_row1_col3, #T_b7cff_row1_col5, #T_b7cff_row1_col6, #T_b7cff_row2_col0, #T_b7cff_row2_col1, #T_b7cff_row2_col2, #T_b7cff_row2_col3, #T_b7cff_row2_col4, #T_b7cff_row2_col5, #T_b7cff_row2_col6, #T_b7cff_row2_col7, #T_b7cff_row3_col0, #T_b7cff_row3_col1, #T_b7cff_row3_col2, #T_b7cff_row3_col3, #T_b7cff_row3_col4, #T_b7cff_row3_col5, #T_b7cff_row3_col6, #T_b7cff_row3_col7, #T_b7cff_row4_col0, #T_b7cff_row4_col1, #T_b7cff_row4_col2, #T_b7cff_row4_col3, #T_b7cff_row4_col4, #T_b7cff_row4_col5, #T_b7cff_row4_col6, #T_b7cff_row4_col7, #T_b7cff_row5_col0, #T_b7cff_row5_col1, #T_b7cff_row5_col2, #T_b7cff_row5_col3, #T_b7cff_row5_col4, #T_b7cff_row5_col5, #T_b7cff_row5_col6, #T_b7cff_row5_col7, #T_b7cff_row6_col0, #T_b7cff_row6_col1, #T_b7cff_row6_col2, #T_b7cff_row6_col3, #T_b7cff_row6_col4, #T_b7cff_row6_col5, #T_b7cff_row6_col6, #T_b7cff_row6_col7, #T_b7cff_row7_col0, #T_b7cff_row7_col1, #T_b7cff_row7_col2, #T_b7cff_row7_col3, #T_b7cff_row7_col4, #T_b7cff_row7_col5, #T_b7cff_row7_col6, #T_b7cff_row7_col7, #T_b7cff_row8_col0, #T_b7cff_row8_col1, #T_b7cff_row8_col2, #T_b7cff_row8_col3, #T_b7cff_row8_col4, #T_b7cff_row8_col5, #T_b7cff_row8_col6, #T_b7cff_row8_col7, #T_b7cff_row9_col0, #T_b7cff_row9_col1, #T_b7cff_row9_col2, #T_b7cff_row9_col3, #T_b7cff_row9_col4, #T_b7cff_row9_col5, #T_b7cff_row9_col6, #T_b7cff_row9_col7, #T_b7cff_row10_col0, #T_b7cff_row10_col1, #T_b7cff_row10_col2, #T_b7cff_row10_col3, #T_b7cff_row10_col4, #T_b7cff_row10_col5, #T_b7cff_row10_col6, #T_b7cff_row10_col7 {\n",
       "  text-align: left;\n",
       "}\n",
       "#T_b7cff_row0_col1, #T_b7cff_row0_col2, #T_b7cff_row0_col3, #T_b7cff_row0_col5, #T_b7cff_row0_col6, #T_b7cff_row1_col4, #T_b7cff_row1_col7 {\n",
       "  text-align: left;\n",
       "  background-color: yellow;\n",
       "}\n",
       "#T_b7cff_row0_col8, #T_b7cff_row1_col8, #T_b7cff_row2_col8, #T_b7cff_row3_col8, #T_b7cff_row4_col8, #T_b7cff_row5_col8, #T_b7cff_row6_col8, #T_b7cff_row7_col8, #T_b7cff_row8_col8, #T_b7cff_row9_col8 {\n",
       "  text-align: left;\n",
       "  background-color: lightgrey;\n",
       "}\n",
       "#T_b7cff_row10_col8 {\n",
       "  text-align: left;\n",
       "  background-color: yellow;\n",
       "  background-color: lightgrey;\n",
       "}\n",
       "</style>\n",
       "<table id=\"T_b7cff\">\n",
       "  <thead>\n",
       "    <tr>\n",
       "      <th class=\"blank level0\" >&nbsp;</th>\n",
       "      <th id=\"T_b7cff_level0_col0\" class=\"col_heading level0 col0\" >Model</th>\n",
       "      <th id=\"T_b7cff_level0_col1\" class=\"col_heading level0 col1\" >Accuracy</th>\n",
       "      <th id=\"T_b7cff_level0_col2\" class=\"col_heading level0 col2\" >AUC</th>\n",
       "      <th id=\"T_b7cff_level0_col3\" class=\"col_heading level0 col3\" >Recall</th>\n",
       "      <th id=\"T_b7cff_level0_col4\" class=\"col_heading level0 col4\" >Prec.</th>\n",
       "      <th id=\"T_b7cff_level0_col5\" class=\"col_heading level0 col5\" >F1</th>\n",
       "      <th id=\"T_b7cff_level0_col6\" class=\"col_heading level0 col6\" >Kappa</th>\n",
       "      <th id=\"T_b7cff_level0_col7\" class=\"col_heading level0 col7\" >MCC</th>\n",
       "      <th id=\"T_b7cff_level0_col8\" class=\"col_heading level0 col8\" >TT (Sec)</th>\n",
       "    </tr>\n",
       "  </thead>\n",
       "  <tbody>\n",
       "    <tr>\n",
       "      <th id=\"T_b7cff_level0_row0\" class=\"row_heading level0 row0\" >rf</th>\n",
       "      <td id=\"T_b7cff_row0_col0\" class=\"data row0 col0\" >Random Forest Classifier</td>\n",
       "      <td id=\"T_b7cff_row0_col1\" class=\"data row0 col1\" >0.8065</td>\n",
       "      <td id=\"T_b7cff_row0_col2\" class=\"data row0 col2\" >0.9368</td>\n",
       "      <td id=\"T_b7cff_row0_col3\" class=\"data row0 col3\" >0.8065</td>\n",
       "      <td id=\"T_b7cff_row0_col4\" class=\"data row0 col4\" >0.8364</td>\n",
       "      <td id=\"T_b7cff_row0_col5\" class=\"data row0 col5\" >0.8124</td>\n",
       "      <td id=\"T_b7cff_row0_col6\" class=\"data row0 col6\" >0.7420</td>\n",
       "      <td id=\"T_b7cff_row0_col7\" class=\"data row0 col7\" >0.7489</td>\n",
       "      <td id=\"T_b7cff_row0_col8\" class=\"data row0 col8\" >3.8060</td>\n",
       "    </tr>\n",
       "    <tr>\n",
       "      <th id=\"T_b7cff_level0_row1\" class=\"row_heading level0 row1\" >et</th>\n",
       "      <td id=\"T_b7cff_row1_col0\" class=\"data row1 col0\" >Extra Trees Classifier</td>\n",
       "      <td id=\"T_b7cff_row1_col1\" class=\"data row1 col1\" >0.8043</td>\n",
       "      <td id=\"T_b7cff_row1_col2\" class=\"data row1 col2\" >0.9332</td>\n",
       "      <td id=\"T_b7cff_row1_col3\" class=\"data row1 col3\" >0.8043</td>\n",
       "      <td id=\"T_b7cff_row1_col4\" class=\"data row1 col4\" >0.8513</td>\n",
       "      <td id=\"T_b7cff_row1_col5\" class=\"data row1 col5\" >0.8096</td>\n",
       "      <td id=\"T_b7cff_row1_col6\" class=\"data row1 col6\" >0.7390</td>\n",
       "      <td id=\"T_b7cff_row1_col7\" class=\"data row1 col7\" >0.7536</td>\n",
       "      <td id=\"T_b7cff_row1_col8\" class=\"data row1 col8\" >3.9060</td>\n",
       "    </tr>\n",
       "    <tr>\n",
       "      <th id=\"T_b7cff_level0_row2\" class=\"row_heading level0 row2\" >svm</th>\n",
       "      <td id=\"T_b7cff_row2_col0\" class=\"data row2 col0\" >SVM - Linear Kernel</td>\n",
       "      <td id=\"T_b7cff_row2_col1\" class=\"data row2 col1\" >0.7874</td>\n",
       "      <td id=\"T_b7cff_row2_col2\" class=\"data row2 col2\" >0.0000</td>\n",
       "      <td id=\"T_b7cff_row2_col3\" class=\"data row2 col3\" >0.7874</td>\n",
       "      <td id=\"T_b7cff_row2_col4\" class=\"data row2 col4\" >0.7908</td>\n",
       "      <td id=\"T_b7cff_row2_col5\" class=\"data row2 col5\" >0.7871</td>\n",
       "      <td id=\"T_b7cff_row2_col6\" class=\"data row2 col6\" >0.7166</td>\n",
       "      <td id=\"T_b7cff_row2_col7\" class=\"data row2 col7\" >0.7178</td>\n",
       "      <td id=\"T_b7cff_row2_col8\" class=\"data row2 col8\" >3.5780</td>\n",
       "    </tr>\n",
       "    <tr>\n",
       "      <th id=\"T_b7cff_level0_row3\" class=\"row_heading level0 row3\" >ridge</th>\n",
       "      <td id=\"T_b7cff_row3_col0\" class=\"data row3 col0\" >Ridge Classifier</td>\n",
       "      <td id=\"T_b7cff_row3_col1\" class=\"data row3 col1\" >0.7841</td>\n",
       "      <td id=\"T_b7cff_row3_col2\" class=\"data row3 col2\" >0.0000</td>\n",
       "      <td id=\"T_b7cff_row3_col3\" class=\"data row3 col3\" >0.7841</td>\n",
       "      <td id=\"T_b7cff_row3_col4\" class=\"data row3 col4\" >0.7838</td>\n",
       "      <td id=\"T_b7cff_row3_col5\" class=\"data row3 col5\" >0.7821</td>\n",
       "      <td id=\"T_b7cff_row3_col6\" class=\"data row3 col6\" >0.7121</td>\n",
       "      <td id=\"T_b7cff_row3_col7\" class=\"data row3 col7\" >0.7133</td>\n",
       "      <td id=\"T_b7cff_row3_col8\" class=\"data row3 col8\" >3.5610</td>\n",
       "    </tr>\n",
       "    <tr>\n",
       "      <th id=\"T_b7cff_level0_row4\" class=\"row_heading level0 row4\" >lr</th>\n",
       "      <td id=\"T_b7cff_row4_col0\" class=\"data row4 col0\" >Logistic Regression</td>\n",
       "      <td id=\"T_b7cff_row4_col1\" class=\"data row4 col1\" >0.7796</td>\n",
       "      <td id=\"T_b7cff_row4_col2\" class=\"data row4 col2\" >0.0000</td>\n",
       "      <td id=\"T_b7cff_row4_col3\" class=\"data row4 col3\" >0.7796</td>\n",
       "      <td id=\"T_b7cff_row4_col4\" class=\"data row4 col4\" >0.7789</td>\n",
       "      <td id=\"T_b7cff_row4_col5\" class=\"data row4 col5\" >0.7775</td>\n",
       "      <td id=\"T_b7cff_row4_col6\" class=\"data row4 col6\" >0.7061</td>\n",
       "      <td id=\"T_b7cff_row4_col7\" class=\"data row4 col7\" >0.7072</td>\n",
       "      <td id=\"T_b7cff_row4_col8\" class=\"data row4 col8\" >3.8840</td>\n",
       "    </tr>\n",
       "    <tr>\n",
       "      <th id=\"T_b7cff_level0_row5\" class=\"row_heading level0 row5\" >dt</th>\n",
       "      <td id=\"T_b7cff_row5_col0\" class=\"data row5 col0\" >Decision Tree Classifier</td>\n",
       "      <td id=\"T_b7cff_row5_col1\" class=\"data row5 col1\" >0.7212</td>\n",
       "      <td id=\"T_b7cff_row5_col2\" class=\"data row5 col2\" >0.8142</td>\n",
       "      <td id=\"T_b7cff_row5_col3\" class=\"data row5 col3\" >0.7212</td>\n",
       "      <td id=\"T_b7cff_row5_col4\" class=\"data row5 col4\" >0.7198</td>\n",
       "      <td id=\"T_b7cff_row5_col5\" class=\"data row5 col5\" >0.7107</td>\n",
       "      <td id=\"T_b7cff_row5_col6\" class=\"data row5 col6\" >0.6283</td>\n",
       "      <td id=\"T_b7cff_row5_col7\" class=\"data row5 col7\" >0.6340</td>\n",
       "      <td id=\"T_b7cff_row5_col8\" class=\"data row5 col8\" >3.6340</td>\n",
       "    </tr>\n",
       "    <tr>\n",
       "      <th id=\"T_b7cff_level0_row6\" class=\"row_heading level0 row6\" >lightgbm</th>\n",
       "      <td id=\"T_b7cff_row6_col0\" class=\"data row6 col0\" >Light Gradient Boosting Machine</td>\n",
       "      <td id=\"T_b7cff_row6_col1\" class=\"data row6 col1\" >0.7168</td>\n",
       "      <td id=\"T_b7cff_row6_col2\" class=\"data row6 col2\" >0.8890</td>\n",
       "      <td id=\"T_b7cff_row6_col3\" class=\"data row6 col3\" >0.7168</td>\n",
       "      <td id=\"T_b7cff_row6_col4\" class=\"data row6 col4\" >0.7122</td>\n",
       "      <td id=\"T_b7cff_row6_col5\" class=\"data row6 col5\" >0.7095</td>\n",
       "      <td id=\"T_b7cff_row6_col6\" class=\"data row6 col6\" >0.6224</td>\n",
       "      <td id=\"T_b7cff_row6_col7\" class=\"data row6 col7\" >0.6253</td>\n",
       "      <td id=\"T_b7cff_row6_col8\" class=\"data row6 col8\" >3.7350</td>\n",
       "    </tr>\n",
       "    <tr>\n",
       "      <th id=\"T_b7cff_level0_row7\" class=\"row_heading level0 row7\" >gbc</th>\n",
       "      <td id=\"T_b7cff_row7_col0\" class=\"data row7 col0\" >Gradient Boosting Classifier</td>\n",
       "      <td id=\"T_b7cff_row7_col1\" class=\"data row7 col1\" >0.6349</td>\n",
       "      <td id=\"T_b7cff_row7_col2\" class=\"data row7 col2\" >0.0000</td>\n",
       "      <td id=\"T_b7cff_row7_col3\" class=\"data row7 col3\" >0.6349</td>\n",
       "      <td id=\"T_b7cff_row7_col4\" class=\"data row7 col4\" >0.6508</td>\n",
       "      <td id=\"T_b7cff_row7_col5\" class=\"data row7 col5\" >0.6315</td>\n",
       "      <td id=\"T_b7cff_row7_col6\" class=\"data row7 col6\" >0.5132</td>\n",
       "      <td id=\"T_b7cff_row7_col7\" class=\"data row7 col7\" >0.5199</td>\n",
       "      <td id=\"T_b7cff_row7_col8\" class=\"data row7 col8\" >6.6410</td>\n",
       "    </tr>\n",
       "    <tr>\n",
       "      <th id=\"T_b7cff_level0_row8\" class=\"row_heading level0 row8\" >ada</th>\n",
       "      <td id=\"T_b7cff_row8_col0\" class=\"data row8 col0\" >Ada Boost Classifier</td>\n",
       "      <td id=\"T_b7cff_row8_col1\" class=\"data row8 col1\" >0.4251</td>\n",
       "      <td id=\"T_b7cff_row8_col2\" class=\"data row8 col2\" >0.0000</td>\n",
       "      <td id=\"T_b7cff_row8_col3\" class=\"data row8 col3\" >0.4251</td>\n",
       "      <td id=\"T_b7cff_row8_col4\" class=\"data row8 col4\" >0.4488</td>\n",
       "      <td id=\"T_b7cff_row8_col5\" class=\"data row8 col5\" >0.4212</td>\n",
       "      <td id=\"T_b7cff_row8_col6\" class=\"data row8 col6\" >0.2334</td>\n",
       "      <td id=\"T_b7cff_row8_col7\" class=\"data row8 col7\" >0.2389</td>\n",
       "      <td id=\"T_b7cff_row8_col8\" class=\"data row8 col8\" >3.8260</td>\n",
       "    </tr>\n",
       "    <tr>\n",
       "      <th id=\"T_b7cff_level0_row9\" class=\"row_heading level0 row9\" >knn</th>\n",
       "      <td id=\"T_b7cff_row9_col0\" class=\"data row9 col0\" >K Neighbors Classifier</td>\n",
       "      <td id=\"T_b7cff_row9_col1\" class=\"data row9 col1\" >0.4049</td>\n",
       "      <td id=\"T_b7cff_row9_col2\" class=\"data row9 col2\" >0.6960</td>\n",
       "      <td id=\"T_b7cff_row9_col3\" class=\"data row9 col3\" >0.4049</td>\n",
       "      <td id=\"T_b7cff_row9_col4\" class=\"data row9 col4\" >0.4375</td>\n",
       "      <td id=\"T_b7cff_row9_col5\" class=\"data row9 col5\" >0.3444</td>\n",
       "      <td id=\"T_b7cff_row9_col6\" class=\"data row9 col6\" >0.2067</td>\n",
       "      <td id=\"T_b7cff_row9_col7\" class=\"data row9 col7\" >0.2263</td>\n",
       "      <td id=\"T_b7cff_row9_col8\" class=\"data row9 col8\" >3.8540</td>\n",
       "    </tr>\n",
       "    <tr>\n",
       "      <th id=\"T_b7cff_level0_row10\" class=\"row_heading level0 row10\" >dummy</th>\n",
       "      <td id=\"T_b7cff_row10_col0\" class=\"data row10 col0\" >Dummy Classifier</td>\n",
       "      <td id=\"T_b7cff_row10_col1\" class=\"data row10 col1\" >0.2468</td>\n",
       "      <td id=\"T_b7cff_row10_col2\" class=\"data row10 col2\" >0.5000</td>\n",
       "      <td id=\"T_b7cff_row10_col3\" class=\"data row10 col3\" >0.2468</td>\n",
       "      <td id=\"T_b7cff_row10_col4\" class=\"data row10 col4\" >0.0609</td>\n",
       "      <td id=\"T_b7cff_row10_col5\" class=\"data row10 col5\" >0.0977</td>\n",
       "      <td id=\"T_b7cff_row10_col6\" class=\"data row10 col6\" >0.0000</td>\n",
       "      <td id=\"T_b7cff_row10_col7\" class=\"data row10 col7\" >0.0000</td>\n",
       "      <td id=\"T_b7cff_row10_col8\" class=\"data row10 col8\" >3.2110</td>\n",
       "    </tr>\n",
       "  </tbody>\n",
       "</table>\n"
      ],
      "text/plain": [
       "<pandas.io.formats.style.Styler at 0x21be3157610>"
      ]
     },
     "metadata": {},
     "output_type": "display_data"
    },
    {
     "name": "stderr",
     "output_type": "stream",
     "text": [
      "2025/02/28 20:25:16 WARNING mlflow.models.model: Model logged without a signature and input example. Please set `input_example` parameter when logging the model to auto infer the model signature.\n",
      "2025/02/28 20:25:16 WARNING mlflow.models.model: Model logged without a signature and input example. Please set `input_example` parameter when logging the model to auto infer the model signature.\n",
      "2025/02/28 20:25:17 WARNING mlflow.models.model: Model logged without a signature and input example. Please set `input_example` parameter when logging the model to auto infer the model signature.\n",
      "2025/02/28 20:25:17 WARNING mlflow.models.model: Model logged without a signature and input example. Please set `input_example` parameter when logging the model to auto infer the model signature.\n",
      "2025/02/28 20:25:18 WARNING mlflow.models.model: Model logged without a signature and input example. Please set `input_example` parameter when logging the model to auto infer the model signature.\n",
      "2025/02/28 20:25:18 WARNING mlflow.models.model: Model logged without a signature and input example. Please set `input_example` parameter when logging the model to auto infer the model signature.\n",
      "2025/02/28 20:25:18 WARNING mlflow.models.model: Model logged without a signature and input example. Please set `input_example` parameter when logging the model to auto infer the model signature.\n",
      "2025/02/28 20:25:19 WARNING mlflow.models.model: Model logged without a signature and input example. Please set `input_example` parameter when logging the model to auto infer the model signature.\n",
      "2025/02/28 20:25:19 WARNING mlflow.models.model: Model logged without a signature and input example. Please set `input_example` parameter when logging the model to auto infer the model signature.\n",
      "2025/02/28 20:25:20 WARNING mlflow.models.model: Model logged without a signature and input example. Please set `input_example` parameter when logging the model to auto infer the model signature.\n",
      "2025/02/28 20:25:20 WARNING mlflow.models.model: Model logged without a signature and input example. Please set `input_example` parameter when logging the model to auto infer the model signature.\n"
     ]
    }
   ],
   "source": [
    "# Comparamos múltiples modelos de clasificación utilizando validación cruzada con 10 folds.\n",
    "model = compare_models(fold=10)"
   ]
  },
  {
   "cell_type": "code",
   "execution_count": 13,
   "id": "684f0ee635eb3905",
   "metadata": {
    "ExecuteTime": {
     "end_time": "2025-03-01T01:27:10.519799Z",
     "start_time": "2025-03-01T01:25:20.865215Z"
    }
   },
   "outputs": [
    {
     "data": {
      "text/html": [
       "<div>\n",
       "<style scoped>\n",
       "    .dataframe tbody tr th:only-of-type {\n",
       "        vertical-align: middle;\n",
       "    }\n",
       "\n",
       "    .dataframe tbody tr th {\n",
       "        vertical-align: top;\n",
       "    }\n",
       "\n",
       "    .dataframe thead th {\n",
       "        text-align: right;\n",
       "    }\n",
       "</style>\n",
       "<table border=\"1\" class=\"dataframe\">\n",
       "  <thead>\n",
       "    <tr style=\"text-align: right;\">\n",
       "      <th></th>\n",
       "      <th></th>\n",
       "      <th></th>\n",
       "    </tr>\n",
       "    <tr>\n",
       "      <th></th>\n",
       "      <th></th>\n",
       "      <th></th>\n",
       "    </tr>\n",
       "  </thead>\n",
       "  <tbody>\n",
       "    <tr>\n",
       "      <th>Initiated</th>\n",
       "      <td>. . . . . . . . . . . . . . . . . .</td>\n",
       "      <td>20:25:20</td>\n",
       "    </tr>\n",
       "    <tr>\n",
       "      <th>Status</th>\n",
       "      <td>. . . . . . . . . . . . . . . . . .</td>\n",
       "      <td>Loading Dependencies</td>\n",
       "    </tr>\n",
       "    <tr>\n",
       "      <th>Estimator</th>\n",
       "      <td>. . . . . . . . . . . . . . . . . .</td>\n",
       "      <td>Compiling Library</td>\n",
       "    </tr>\n",
       "  </tbody>\n",
       "</table>\n",
       "</div>"
      ],
      "text/plain": [
       "                                                                    \n",
       "                                                                    \n",
       "Initiated  . . . . . . . . . . . . . . . . . .              20:25:20\n",
       "Status     . . . . . . . . . . . . . . . . . .  Loading Dependencies\n",
       "Estimator  . . . . . . . . . . . . . . . . . .     Compiling Library"
      ]
     },
     "metadata": {},
     "output_type": "display_data"
    },
    {
     "data": {
      "text/html": [],
      "text/plain": [
       "<IPython.core.display.HTML object>"
      ]
     },
     "metadata": {},
     "output_type": "display_data"
    },
    {
     "data": {
      "text/html": [
       "<style type=\"text/css\">\n",
       "#T_65993_row10_col0, #T_65993_row10_col1, #T_65993_row10_col2, #T_65993_row10_col3, #T_65993_row10_col4, #T_65993_row10_col5, #T_65993_row10_col6 {\n",
       "  background: yellow;\n",
       "}\n",
       "</style>\n",
       "<table id=\"T_65993\">\n",
       "  <thead>\n",
       "    <tr>\n",
       "      <th class=\"blank level0\" >&nbsp;</th>\n",
       "      <th id=\"T_65993_level0_col0\" class=\"col_heading level0 col0\" >Accuracy</th>\n",
       "      <th id=\"T_65993_level0_col1\" class=\"col_heading level0 col1\" >AUC</th>\n",
       "      <th id=\"T_65993_level0_col2\" class=\"col_heading level0 col2\" >Recall</th>\n",
       "      <th id=\"T_65993_level0_col3\" class=\"col_heading level0 col3\" >Prec.</th>\n",
       "      <th id=\"T_65993_level0_col4\" class=\"col_heading level0 col4\" >F1</th>\n",
       "      <th id=\"T_65993_level0_col5\" class=\"col_heading level0 col5\" >Kappa</th>\n",
       "      <th id=\"T_65993_level0_col6\" class=\"col_heading level0 col6\" >MCC</th>\n",
       "    </tr>\n",
       "    <tr>\n",
       "      <th class=\"index_name level0\" >Fold</th>\n",
       "      <th class=\"blank col0\" >&nbsp;</th>\n",
       "      <th class=\"blank col1\" >&nbsp;</th>\n",
       "      <th class=\"blank col2\" >&nbsp;</th>\n",
       "      <th class=\"blank col3\" >&nbsp;</th>\n",
       "      <th class=\"blank col4\" >&nbsp;</th>\n",
       "      <th class=\"blank col5\" >&nbsp;</th>\n",
       "      <th class=\"blank col6\" >&nbsp;</th>\n",
       "    </tr>\n",
       "  </thead>\n",
       "  <tbody>\n",
       "    <tr>\n",
       "      <th id=\"T_65993_level0_row0\" class=\"row_heading level0 row0\" >0</th>\n",
       "      <td id=\"T_65993_row0_col0\" class=\"data row0 col0\" >0.7877</td>\n",
       "      <td id=\"T_65993_row0_col1\" class=\"data row0 col1\" >0.9320</td>\n",
       "      <td id=\"T_65993_row0_col2\" class=\"data row0 col2\" >0.7877</td>\n",
       "      <td id=\"T_65993_row0_col3\" class=\"data row0 col3\" >0.8345</td>\n",
       "      <td id=\"T_65993_row0_col4\" class=\"data row0 col4\" >0.7969</td>\n",
       "      <td id=\"T_65993_row0_col5\" class=\"data row0 col5\" >0.7168</td>\n",
       "      <td id=\"T_65993_row0_col6\" class=\"data row0 col6\" >0.7287</td>\n",
       "    </tr>\n",
       "    <tr>\n",
       "      <th id=\"T_65993_level0_row1\" class=\"row_heading level0 row1\" >1</th>\n",
       "      <td id=\"T_65993_row1_col0\" class=\"data row1 col0\" >0.7821</td>\n",
       "      <td id=\"T_65993_row1_col1\" class=\"data row1 col1\" >0.9238</td>\n",
       "      <td id=\"T_65993_row1_col2\" class=\"data row1 col2\" >0.7821</td>\n",
       "      <td id=\"T_65993_row1_col3\" class=\"data row1 col3\" >0.8111</td>\n",
       "      <td id=\"T_65993_row1_col4\" class=\"data row1 col4\" >0.7903</td>\n",
       "      <td id=\"T_65993_row1_col5\" class=\"data row1 col5\" >0.7095</td>\n",
       "      <td id=\"T_65993_row1_col6\" class=\"data row1 col6\" >0.7135</td>\n",
       "    </tr>\n",
       "    <tr>\n",
       "      <th id=\"T_65993_level0_row2\" class=\"row_heading level0 row2\" >2</th>\n",
       "      <td id=\"T_65993_row2_col0\" class=\"data row2 col0\" >0.8436</td>\n",
       "      <td id=\"T_65993_row2_col1\" class=\"data row2 col1\" >0.9553</td>\n",
       "      <td id=\"T_65993_row2_col2\" class=\"data row2 col2\" >0.8436</td>\n",
       "      <td id=\"T_65993_row2_col3\" class=\"data row2 col3\" >0.8667</td>\n",
       "      <td id=\"T_65993_row2_col4\" class=\"data row2 col4\" >0.8445</td>\n",
       "      <td id=\"T_65993_row2_col5\" class=\"data row2 col5\" >0.7916</td>\n",
       "      <td id=\"T_65993_row2_col6\" class=\"data row2 col6\" >0.7997</td>\n",
       "    </tr>\n",
       "    <tr>\n",
       "      <th id=\"T_65993_level0_row3\" class=\"row_heading level0 row3\" >3</th>\n",
       "      <td id=\"T_65993_row3_col0\" class=\"data row3 col0\" >0.7697</td>\n",
       "      <td id=\"T_65993_row3_col1\" class=\"data row3 col1\" >0.9176</td>\n",
       "      <td id=\"T_65993_row3_col2\" class=\"data row3 col2\" >0.7697</td>\n",
       "      <td id=\"T_65993_row3_col3\" class=\"data row3 col3\" >0.8096</td>\n",
       "      <td id=\"T_65993_row3_col4\" class=\"data row3 col4\" >0.7791</td>\n",
       "      <td id=\"T_65993_row3_col5\" class=\"data row3 col5\" >0.6930</td>\n",
       "      <td id=\"T_65993_row3_col6\" class=\"data row3 col6\" >0.7006</td>\n",
       "    </tr>\n",
       "    <tr>\n",
       "      <th id=\"T_65993_level0_row4\" class=\"row_heading level0 row4\" >4</th>\n",
       "      <td id=\"T_65993_row4_col0\" class=\"data row4 col0\" >0.8708</td>\n",
       "      <td id=\"T_65993_row4_col1\" class=\"data row4 col1\" >0.9608</td>\n",
       "      <td id=\"T_65993_row4_col2\" class=\"data row4 col2\" >0.8708</td>\n",
       "      <td id=\"T_65993_row4_col3\" class=\"data row4 col3\" >0.8862</td>\n",
       "      <td id=\"T_65993_row4_col4\" class=\"data row4 col4\" >0.8741</td>\n",
       "      <td id=\"T_65993_row4_col5\" class=\"data row4 col5\" >0.8278</td>\n",
       "      <td id=\"T_65993_row4_col6\" class=\"data row4 col6\" >0.8311</td>\n",
       "    </tr>\n",
       "    <tr>\n",
       "      <th id=\"T_65993_level0_row5\" class=\"row_heading level0 row5\" >5</th>\n",
       "      <td id=\"T_65993_row5_col0\" class=\"data row5 col0\" >0.8202</td>\n",
       "      <td id=\"T_65993_row5_col1\" class=\"data row5 col1\" >0.9534</td>\n",
       "      <td id=\"T_65993_row5_col2\" class=\"data row5 col2\" >0.8202</td>\n",
       "      <td id=\"T_65993_row5_col3\" class=\"data row5 col3\" >0.8541</td>\n",
       "      <td id=\"T_65993_row5_col4\" class=\"data row5 col4\" >0.8249</td>\n",
       "      <td id=\"T_65993_row5_col5\" class=\"data row5 col5\" >0.7605</td>\n",
       "      <td id=\"T_65993_row5_col6\" class=\"data row5 col6\" >0.7705</td>\n",
       "    </tr>\n",
       "    <tr>\n",
       "      <th id=\"T_65993_level0_row6\" class=\"row_heading level0 row6\" >6</th>\n",
       "      <td id=\"T_65993_row6_col0\" class=\"data row6 col0\" >0.8146</td>\n",
       "      <td id=\"T_65993_row6_col1\" class=\"data row6 col1\" >0.9433</td>\n",
       "      <td id=\"T_65993_row6_col2\" class=\"data row6 col2\" >0.8146</td>\n",
       "      <td id=\"T_65993_row6_col3\" class=\"data row6 col3\" >0.8468</td>\n",
       "      <td id=\"T_65993_row6_col4\" class=\"data row6 col4\" >0.8196</td>\n",
       "      <td id=\"T_65993_row6_col5\" class=\"data row6 col5\" >0.7527</td>\n",
       "      <td id=\"T_65993_row6_col6\" class=\"data row6 col6\" >0.7618</td>\n",
       "    </tr>\n",
       "    <tr>\n",
       "      <th id=\"T_65993_level0_row7\" class=\"row_heading level0 row7\" >7</th>\n",
       "      <td id=\"T_65993_row7_col0\" class=\"data row7 col0\" >0.7865</td>\n",
       "      <td id=\"T_65993_row7_col1\" class=\"data row7 col1\" >0.9209</td>\n",
       "      <td id=\"T_65993_row7_col2\" class=\"data row7 col2\" >0.7865</td>\n",
       "      <td id=\"T_65993_row7_col3\" class=\"data row7 col3\" >0.8093</td>\n",
       "      <td id=\"T_65993_row7_col4\" class=\"data row7 col4\" >0.7933</td>\n",
       "      <td id=\"T_65993_row7_col5\" class=\"data row7 col5\" >0.7152</td>\n",
       "      <td id=\"T_65993_row7_col6\" class=\"data row7 col6\" >0.7187</td>\n",
       "    </tr>\n",
       "    <tr>\n",
       "      <th id=\"T_65993_level0_row8\" class=\"row_heading level0 row8\" >8</th>\n",
       "      <td id=\"T_65993_row8_col0\" class=\"data row8 col0\" >0.8146</td>\n",
       "      <td id=\"T_65993_row8_col1\" class=\"data row8 col1\" >0.9345</td>\n",
       "      <td id=\"T_65993_row8_col2\" class=\"data row8 col2\" >0.8146</td>\n",
       "      <td id=\"T_65993_row8_col3\" class=\"data row8 col3\" >0.8347</td>\n",
       "      <td id=\"T_65993_row8_col4\" class=\"data row8 col4\" >0.8171</td>\n",
       "      <td id=\"T_65993_row8_col5\" class=\"data row8 col5\" >0.7527</td>\n",
       "      <td id=\"T_65993_row8_col6\" class=\"data row8 col6\" >0.7586</td>\n",
       "    </tr>\n",
       "    <tr>\n",
       "      <th id=\"T_65993_level0_row9\" class=\"row_heading level0 row9\" >9</th>\n",
       "      <td id=\"T_65993_row9_col0\" class=\"data row9 col0\" >0.7753</td>\n",
       "      <td id=\"T_65993_row9_col1\" class=\"data row9 col1\" >0.9259</td>\n",
       "      <td id=\"T_65993_row9_col2\" class=\"data row9 col2\" >0.7753</td>\n",
       "      <td id=\"T_65993_row9_col3\" class=\"data row9 col3\" >0.8106</td>\n",
       "      <td id=\"T_65993_row9_col4\" class=\"data row9 col4\" >0.7838</td>\n",
       "      <td id=\"T_65993_row9_col5\" class=\"data row9 col5\" >0.7004</td>\n",
       "      <td id=\"T_65993_row9_col6\" class=\"data row9 col6\" >0.7056</td>\n",
       "    </tr>\n",
       "    <tr>\n",
       "      <th id=\"T_65993_level0_row10\" class=\"row_heading level0 row10\" >Mean</th>\n",
       "      <td id=\"T_65993_row10_col0\" class=\"data row10 col0\" >0.8065</td>\n",
       "      <td id=\"T_65993_row10_col1\" class=\"data row10 col1\" >0.9368</td>\n",
       "      <td id=\"T_65993_row10_col2\" class=\"data row10 col2\" >0.8065</td>\n",
       "      <td id=\"T_65993_row10_col3\" class=\"data row10 col3\" >0.8364</td>\n",
       "      <td id=\"T_65993_row10_col4\" class=\"data row10 col4\" >0.8124</td>\n",
       "      <td id=\"T_65993_row10_col5\" class=\"data row10 col5\" >0.7420</td>\n",
       "      <td id=\"T_65993_row10_col6\" class=\"data row10 col6\" >0.7489</td>\n",
       "    </tr>\n",
       "    <tr>\n",
       "      <th id=\"T_65993_level0_row11\" class=\"row_heading level0 row11\" >Std</th>\n",
       "      <td id=\"T_65993_row11_col0\" class=\"data row11 col0\" >0.0308</td>\n",
       "      <td id=\"T_65993_row11_col1\" class=\"data row11 col1\" >0.0147</td>\n",
       "      <td id=\"T_65993_row11_col2\" class=\"data row11 col2\" >0.0308</td>\n",
       "      <td id=\"T_65993_row11_col3\" class=\"data row11 col3\" >0.0257</td>\n",
       "      <td id=\"T_65993_row11_col4\" class=\"data row11 col4\" >0.0285</td>\n",
       "      <td id=\"T_65993_row11_col5\" class=\"data row11 col5\" >0.0411</td>\n",
       "      <td id=\"T_65993_row11_col6\" class=\"data row11 col6\" >0.0410</td>\n",
       "    </tr>\n",
       "  </tbody>\n",
       "</table>\n"
      ],
      "text/plain": [
       "<pandas.io.formats.style.Styler at 0x21be39b6860>"
      ]
     },
     "metadata": {},
     "output_type": "display_data"
    },
    {
     "name": "stderr",
     "output_type": "stream",
     "text": [
      "2025/02/28 20:27:09 WARNING mlflow.models.model: Model logged without a signature and input example. Please set `input_example` parameter when logging the model to auto infer the model signature.\n"
     ]
    }
   ],
   "source": [
    "# Creamos un modelo de clasificación utilizando Random Forest (RF).\n",
    "# Puedes reemplazar 'rf' con las iniciales del modelo que obtuvo mejores resultados en la comparación de PyCaret.\n",
    "rf = create_model('rf')"
   ]
  },
  {
   "cell_type": "code",
   "execution_count": 14,
   "id": "9c892d03ca307c7e",
   "metadata": {
    "ExecuteTime": {
     "end_time": "2025-03-01T01:27:10.567448Z",
     "start_time": "2025-03-01T01:27:10.552425Z"
    }
   },
   "outputs": [
    {
     "name": "stdout",
     "output_type": "stream",
     "text": [
      "RandomForestClassifier(bootstrap=True, ccp_alpha=0.0, class_weight=None,\n",
      "                       criterion='gini', max_depth=None, max_features='sqrt',\n",
      "                       max_leaf_nodes=None, max_samples=None,\n",
      "                       min_impurity_decrease=0.0, min_samples_leaf=1,\n",
      "                       min_samples_split=2, min_weight_fraction_leaf=0.0,\n",
      "                       monotonic_cst=None, n_estimators=100, n_jobs=-1,\n",
      "                       oob_score=False, random_state=123, verbose=0,\n",
      "                       warm_start=False)\n"
     ]
    }
   ],
   "source": [
    "# Mostramos información detallada del modelo SVM entrenado.\n",
    "print(rf)"
   ]
  },
  {
   "cell_type": "code",
   "execution_count": 15,
   "id": "f23710b71312c327",
   "metadata": {
    "ExecuteTime": {
     "end_time": "2025-03-01T01:27:10.582972Z",
     "start_time": "2025-03-01T01:27:10.573463Z"
    }
   },
   "outputs": [
    {
     "name": "stdout",
     "output_type": "stream",
     "text": [
      "{'bootstrap': True, 'ccp_alpha': 0.0, 'class_weight': None, 'criterion': 'gini', 'max_depth': None, 'max_features': 'sqrt', 'max_leaf_nodes': None, 'max_samples': None, 'min_impurity_decrease': 0.0, 'min_samples_leaf': 1, 'min_samples_split': 2, 'min_weight_fraction_leaf': 0.0, 'monotonic_cst': None, 'n_estimators': 100, 'n_jobs': -1, 'oob_score': False, 'random_state': 123, 'verbose': 0, 'warm_start': False}\n"
     ]
    }
   ],
   "source": [
    "# Muestra los hiperparámetros del modelo\n",
    "print(rf.get_params())"
   ]
  },
  {
   "cell_type": "code",
   "execution_count": 16,
   "id": "2888a01b786f1f04",
   "metadata": {
    "ExecuteTime": {
     "end_time": "2025-03-01T01:28:22.881884Z",
     "start_time": "2025-03-01T01:27:10.598933Z"
    }
   },
   "outputs": [
    {
     "data": {
      "text/html": [],
      "text/plain": [
       "<IPython.core.display.HTML object>"
      ]
     },
     "metadata": {},
     "output_type": "display_data"
    },
    {
     "data": {
      "image/png": "[encoded data removed]",
      "text/plain": [
       "<Figure size 800x550 with 1 Axes>"
      ]
     },
     "metadata": {},
     "output_type": "display_data"
    }
   ],
   "source": [
    "# Generamos la matriz de confusión del modelo SVM.\n",
    "plot_model(rf, plot='confusion_matrix')"
   ]
  },
  {
   "cell_type": "code",
   "execution_count": 17,
   "id": "a1ff8b99b841cee7",
   "metadata": {
    "ExecuteTime": {
     "end_time": "2025-03-01T01:29:37.598907Z",
     "start_time": "2025-03-01T01:28:22.930976Z"
    }
   },
   "outputs": [
    {
     "data": {
      "text/html": [],
      "text/plain": [
       "<IPython.core.display.HTML object>"
      ]
     },
     "metadata": {},
     "output_type": "display_data"
    },
    {
     "data": {
      "image/png": "[encoded data removed]",
      "text/plain": [
       "<Figure size 800x550 with 1 Axes>"
      ]
     },
     "metadata": {},
     "output_type": "display_data"
    }
   ],
   "source": [
    "# Generamos la curva Precision-Recall del modelo entrenado.\n",
    "plot_model(rf, plot='pr')"
   ]
  },
  {
   "cell_type": "code",
   "execution_count": 18,
   "id": "b53582a49ac0542e",
   "metadata": {
    "ExecuteTime": {
     "end_time": "2025-03-01T01:29:58.147779Z",
     "start_time": "2025-03-01T01:29:37.631771Z"
    }
   },
   "outputs": [
    {
     "data": {
      "text/html": [],
      "text/plain": [
       "<IPython.core.display.HTML object>"
      ]
     },
     "metadata": {},
     "output_type": "display_data"
    },
    {
     "data": {
      "image/png": "[encoded data removed]",
      "text/plain": [
       "<Figure size 800x500 with 1 Axes>"
      ]
     },
     "metadata": {},
     "output_type": "display_data"
    }
   ],
   "source": [
    "# Generamos un gráfico de importancia de características del modelo entrenado.\n",
    "plot_model(rf, plot='feature')"
   ]
  },
  {
   "cell_type": "code",
   "execution_count": 19,
   "id": "d71707eeb7217c35",
   "metadata": {
    "ExecuteTime": {
     "end_time": "2025-03-01T01:31:08.202056Z",
     "start_time": "2025-03-01T01:29:58.151139Z"
    }
   },
   "outputs": [
    {
     "data": {
      "text/html": [],
      "text/plain": [
       "<IPython.core.display.HTML object>"
      ]
     },
     "metadata": {},
     "output_type": "display_data"
    },
    {
     "data": {
      "image/png": "[encoded data removed]",
      "text/plain": [
       "<Figure size 800x550 with 1 Axes>"
      ]
     },
     "metadata": {},
     "output_type": "display_data"
    }
   ],
   "source": [
    "# Generamos el gráfico de error del modelo entrenado.\n",
    "plot_model(rf, plot='error')"
   ]
  },
  {
   "cell_type": "code",
   "execution_count": 20,
   "id": "73998599e5755664",
   "metadata": {
    "ExecuteTime": {
     "end_time": "2025-03-01T01:31:08.249717Z",
     "start_time": "2025-03-01T01:31:08.234633Z"
    }
   },
   "outputs": [],
   "source": [
    "# Para visualizar los resultados del entrenamiento en la plataforma MLflow,\n",
    "# es necesario ejecutar el siguiente comando en la terminal.\n",
    "# Debes asegurarte de estar ubicado en el directorio del proyecto\n",
    "# y tener activado el entorno virtual de trabajo.\n",
    "\n",
    "# mlflow server --host 127.0.0.1 --port 8080"
   ]
  }
 ],
 "metadata": {
  "kernelspec": {
   "display_name": "Python 3 (ipykernel)",
   "language": "python",
   "name": "python3"
  },
  "language_info": {
   "codemirror_mode": {
    "name": "ipython",
    "version": 3
   },
   "file_extension": ".py",
   "mimetype": "text/x-python",
   "name": "python",
   "nbconvert_exporter": "python",
   "pygments_lexer": "ipython3",
   "version": "3.13.5"
  }
 },
 "nbformat": 4,
 "nbformat_minor": 5
}
