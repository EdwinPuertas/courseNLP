{
 "cells": [
  {
   "cell_type": "markdown",
   "id": "719ab87a",
   "metadata": {},
   "source": [
    "# Bag-of-Words Model"
   ]
  },
  {
   "cell_type": "code",
   "execution_count": null,
   "id": "8c93627a",
   "metadata": {
    "ExecuteTime": {
     "start_time": "2025-10-28T23:44:20.783279Z"
    },
    "jupyter": {
     "is_executing": true
    }
   },
   "outputs": [],
   "source": [
    "from sklearn.feature_extraction.text import CountVectorizer\n",
    "from nltk.tokenize import TweetTokenizer\n",
    "import pandas as pd"
   ]
  },
  {
   "cell_type": "code",
   "id": "e77c0f9e",
   "metadata": {
    "jupyter": {
     "is_executing": true
    }
   },
   "source": [
    "corpus = [\"La NEP fue oficialmente decidida en el 10° Congreso del Partido Comunista de la URSS\", \n",
    "          \"Al estado compartía con el Distrito Federal el sistema de lagos de la cuenca del valle de México o de Anahuac los cuales eran los lagos de Zumpango\",\n",
    "          \"De las zonas sometidas venían las fibras de maguey de la más alta calidad\"]"
   ],
   "outputs": [],
   "execution_count": null
  },
  {
   "cell_type": "code",
   "execution_count": 3,
   "id": "9d45b98d",
   "metadata": {},
   "outputs": [
    {
     "name": "stdout",
     "output_type": "stream",
     "text": [
      "['la', 'nep', 'fue', 'oficialmente', 'decidida', 'en', 'el', '10', '°', 'congreso', 'del', 'partido', 'comunista', 'de', 'urss', 'al', 'estado', 'compartía', 'con', 'distrito', 'federal', 'sistema', 'lagos', 'cuenca', 'valle', 'méxico', 'o', 'anahuac', 'los', 'cuales', 'eran', 'zumpango', 'las', 'zonas', 'sometidas', 'venían', 'fibras', 'maguey', 'más', 'alta', 'calidad']\n"
     ]
    }
   ],
   "source": [
    "tknzr = TweetTokenizer()\n",
    "bag = []\n",
    "for row in corpus:\n",
    "    word_list = tknzr.tokenize(row)\n",
    "    for word in word_list:\n",
    "        word = str(word).lower()\n",
    "        if word not in bag:\n",
    "            bag.append(word)\n",
    "print(bag)"
   ]
  },
  {
   "cell_type": "code",
   "execution_count": 4,
   "id": "37506283",
   "metadata": {},
   "outputs": [
    {
     "data": {
      "text/plain": [
       "41"
      ]
     },
     "execution_count": 4,
     "metadata": {},
     "output_type": "execute_result"
    }
   ],
   "source": [
    "len(bag)"
   ]
  },
  {
   "cell_type": "code",
   "execution_count": 5,
   "id": "0490e310",
   "metadata": {},
   "outputs": [],
   "source": [
    "bow = CountVectorizer(analyzer='word', ngram_range=(1, 1))"
   ]
  },
  {
   "cell_type": "code",
   "execution_count": 6,
   "id": "1711ddda",
   "metadata": {},
   "outputs": [],
   "source": [
    "features = bow.fit_transform(corpus)"
   ]
  },
  {
   "cell_type": "code",
   "execution_count": 7,
   "id": "7c647efa",
   "metadata": {},
   "outputs": [
    {
     "data": {
      "text/plain": [
       "array([[1, 0, 0, 0, 0, 0, 1, 0, 1, 0, 0, 1, 1, 1, 0, 1, 1, 0, 0, 0, 0, 1,\n",
       "        2, 0, 0, 0, 0, 0, 0, 1, 1, 1, 0, 0, 1, 0, 0, 0, 0],\n",
       "       [0, 1, 0, 1, 0, 1, 0, 1, 0, 1, 1, 5, 0, 1, 1, 2, 0, 1, 1, 1, 0, 0,\n",
       "        1, 2, 0, 2, 0, 0, 1, 0, 0, 0, 1, 0, 0, 1, 0, 0, 1],\n",
       "       [0, 0, 1, 0, 1, 0, 0, 0, 0, 0, 0, 3, 0, 0, 0, 0, 0, 0, 0, 0, 1, 0,\n",
       "        1, 0, 2, 0, 1, 1, 0, 0, 0, 0, 0, 1, 0, 0, 1, 1, 0]], dtype=int64)"
      ]
     },
     "execution_count": 7,
     "metadata": {},
     "output_type": "execute_result"
    }
   ],
   "source": [
    "features.toarray()"
   ]
  },
  {
   "cell_type": "code",
   "execution_count": 8,
   "id": "b22f81ed",
   "metadata": {},
   "outputs": [],
   "source": [
    "df = pd.DataFrame(features.toarray(),\n",
    "                  index=['stament '+str(i) for i in range(1, 1+len(corpus))],\n",
    "                  columns=bow.get_feature_names_out())"
   ]
  },
  {
   "cell_type": "code",
   "execution_count": 9,
   "id": "3fac4b5c",
   "metadata": {},
   "outputs": [
    {
     "data": {
      "text/html": [
       "<div>\n",
       "<style scoped>\n",
       "    .dataframe tbody tr th:only-of-type {\n",
       "        vertical-align: middle;\n",
       "    }\n",
       "\n",
       "    .dataframe tbody tr th {\n",
       "        vertical-align: top;\n",
       "    }\n",
       "\n",
       "    .dataframe thead th {\n",
       "        text-align: right;\n",
       "    }\n",
       "</style>\n",
       "<table border=\"1\" class=\"dataframe\">\n",
       "  <thead>\n",
       "    <tr style=\"text-align: right;\">\n",
       "      <th></th>\n",
       "      <th>10</th>\n",
       "      <th>al</th>\n",
       "      <th>alta</th>\n",
       "      <th>anahuac</th>\n",
       "      <th>calidad</th>\n",
       "      <th>compartía</th>\n",
       "      <th>comunista</th>\n",
       "      <th>con</th>\n",
       "      <th>congreso</th>\n",
       "      <th>cuales</th>\n",
       "      <th>...</th>\n",
       "      <th>nep</th>\n",
       "      <th>oficialmente</th>\n",
       "      <th>partido</th>\n",
       "      <th>sistema</th>\n",
       "      <th>sometidas</th>\n",
       "      <th>urss</th>\n",
       "      <th>valle</th>\n",
       "      <th>venían</th>\n",
       "      <th>zonas</th>\n",
       "      <th>zumpango</th>\n",
       "    </tr>\n",
       "  </thead>\n",
       "  <tbody>\n",
       "    <tr>\n",
       "      <th>stament 1</th>\n",
       "      <td>1</td>\n",
       "      <td>0</td>\n",
       "      <td>0</td>\n",
       "      <td>0</td>\n",
       "      <td>0</td>\n",
       "      <td>0</td>\n",
       "      <td>1</td>\n",
       "      <td>0</td>\n",
       "      <td>1</td>\n",
       "      <td>0</td>\n",
       "      <td>...</td>\n",
       "      <td>1</td>\n",
       "      <td>1</td>\n",
       "      <td>1</td>\n",
       "      <td>0</td>\n",
       "      <td>0</td>\n",
       "      <td>1</td>\n",
       "      <td>0</td>\n",
       "      <td>0</td>\n",
       "      <td>0</td>\n",
       "      <td>0</td>\n",
       "    </tr>\n",
       "    <tr>\n",
       "      <th>stament 2</th>\n",
       "      <td>0</td>\n",
       "      <td>1</td>\n",
       "      <td>0</td>\n",
       "      <td>1</td>\n",
       "      <td>0</td>\n",
       "      <td>1</td>\n",
       "      <td>0</td>\n",
       "      <td>1</td>\n",
       "      <td>0</td>\n",
       "      <td>1</td>\n",
       "      <td>...</td>\n",
       "      <td>0</td>\n",
       "      <td>0</td>\n",
       "      <td>0</td>\n",
       "      <td>1</td>\n",
       "      <td>0</td>\n",
       "      <td>0</td>\n",
       "      <td>1</td>\n",
       "      <td>0</td>\n",
       "      <td>0</td>\n",
       "      <td>1</td>\n",
       "    </tr>\n",
       "    <tr>\n",
       "      <th>stament 3</th>\n",
       "      <td>0</td>\n",
       "      <td>0</td>\n",
       "      <td>1</td>\n",
       "      <td>0</td>\n",
       "      <td>1</td>\n",
       "      <td>0</td>\n",
       "      <td>0</td>\n",
       "      <td>0</td>\n",
       "      <td>0</td>\n",
       "      <td>0</td>\n",
       "      <td>...</td>\n",
       "      <td>0</td>\n",
       "      <td>0</td>\n",
       "      <td>0</td>\n",
       "      <td>0</td>\n",
       "      <td>1</td>\n",
       "      <td>0</td>\n",
       "      <td>0</td>\n",
       "      <td>1</td>\n",
       "      <td>1</td>\n",
       "      <td>0</td>\n",
       "    </tr>\n",
       "  </tbody>\n",
       "</table>\n",
       "<p>3 rows × 39 columns</p>\n",
       "</div>"
      ],
      "text/plain": [
       "           10  al  alta  anahuac  calidad  compartía  comunista  con  \\\n",
       "stament 1   1   0     0        0        0          0          1    0   \n",
       "stament 2   0   1     0        1        0          1          0    1   \n",
       "stament 3   0   0     1        0        1          0          0    0   \n",
       "\n",
       "           congreso  cuales  ...  nep  oficialmente  partido  sistema  \\\n",
       "stament 1         1       0  ...    1             1        1        0   \n",
       "stament 2         0       1  ...    0             0        0        1   \n",
       "stament 3         0       0  ...    0             0        0        0   \n",
       "\n",
       "           sometidas  urss  valle  venían  zonas  zumpango  \n",
       "stament 1          0     1      0       0      0         0  \n",
       "stament 2          0     0      1       0      0         1  \n",
       "stament 3          1     0      0       1      1         0  \n",
       "\n",
       "[3 rows x 39 columns]"
      ]
     },
     "execution_count": 9,
     "metadata": {},
     "output_type": "execute_result"
    }
   ],
   "source": [
    "df"
   ]
  },
  {
   "cell_type": "code",
   "execution_count": null,
   "id": "2563708c",
   "metadata": {},
   "outputs": [],
   "source": []
  },
  {
   "cell_type": "code",
   "execution_count": null,
   "id": "20552211-5ee4-4814-94fe-ef82fb2452b8",
   "metadata": {},
   "outputs": [],
   "source": []
  }
 ],
 "metadata": {
  "kernelspec": {
   "display_name": "Python 3 (ipykernel)",
   "language": "python",
   "name": "python3"
  },
  "language_info": {
   "codemirror_mode": {
    "name": "ipython",
    "version": 3
   },
   "file_extension": ".py",
   "mimetype": "text/x-python",
   "name": "python",
   "nbconvert_exporter": "python",
   "pygments_lexer": "ipython3",
   "version": "3.13.5"
  }
 },
 "nbformat": 4,
 "nbformat_minor": 5
}
