{
 "cells": [
  {
   "cell_type": "markdown",
   "metadata": {},
   "source": [
    "# Chapter 2: Being Clear and Direct\n",
    "\n",
    "- [Lesson](#lesson)\n",
    "- [Exercises](#exercises)\n",
    "- [Example Playground](#example-playground)\n",
    "\n",
    "## Setup\n",
    "\n",
    "Run the following setup cell to load your API key and establish the `get_completion` helper function."
   ]
  },
  {
   "cell_type": "code",
   "execution_count": null,
   "metadata": {},
   "outputs": [],
   "source": [
    "#!pip install anthropic"
   ]
  },
  {
   "cell_type": "code",
   "execution_count": 1,
   "metadata": {},
   "outputs": [],
   "source": [
    "# Import python's built-in regular expression library\n",
    "import re\n",
    "import anthropic\n",
    "\n",
    "# Retrieve the API_KEY & MODEL_NAME variables from the IPython store\n",
    "%store -r API_KEY\n",
    "%store -r MODEL_NAME\n",
    "\n",
    "client = anthropic.Anthropic(api_key=API_KEY)\n",
    "\n",
    "# Note that we changed max_tokens to 4K just for this lesson to allow for longer completions in the exercises\n",
    "def get_completion(prompt: str, system_prompt=\"\"):\n",
    "    message = client.messages.create(\n",
    "        model=MODEL_NAME,\n",
    "        max_tokens=4000,\n",
    "        temperature=0.0,\n",
    "        system=system_prompt,\n",
    "        messages=[\n",
    "          {\"role\": \"user\", \"content\": prompt}\n",
    "        ]\n",
    "    )\n",
    "    return message.content[0].text"
   ]
  },
  {
   "cell_type": "markdown",
   "metadata": {},
   "source": [
    "---\n",
    "\n",
    "## Lesson\n",
    "\n",
    "**Claude responds best to clear and direct instructions.**\n",
    "\n",
    "Think of Claude like any other human that is new to the job. **Claude has no context** on what to do aside from what you literally tell it. Just as when you instruct a human for the first time on a task, the more you explain exactly what you want in a straightforward manner to Claude, the better and more accurate Claude's response will be.\"\t\t\t\t\n",
    "\t\t\t\t\n",
    "When in doubt, follow the **Golden Rule of Clear Prompting**:\n",
    "- Show your prompt to a colleague or friend and have them follow the instructions themselves to see if they can produce the result you want. If they're confused, Claude's confused.\t\t\t\t"
   ]
  },
  {
   "cell_type": "markdown",
   "metadata": {},
   "source": [
    "### Examples\n",
    "\n",
    "Let's take a task like writing poetry. (Ignore any syllable mismatch - LLMs aren't great at counting syllables yet.)"
   ]
  },
  {
   "cell_type": "code",
   "execution_count": 3,
   "metadata": {},
   "outputs": [
    {
     "name": "stdout",
     "output_type": "stream",
     "text": [
      "Aquí está un haiku sobre robots:\n",
      "\n",
      "Máquinas de acero,\n",
      "Movimientos precisos y fríos,\n",
      "Sirviendo al humano.\n"
     ]
    }
   ],
   "source": [
    "# Prompt\n",
    "PROMPT = \"Escribe un haiku sobre robots.\"\n",
    "\n",
    "# Print Claude's response\n",
    "print(get_completion(PROMPT))"
   ]
  },
  {
   "cell_type": "markdown",
   "metadata": {},
   "source": [
    "This haiku is nice enough, but users may want Claude to go directly into the poem without the \"Here is a haiku\" preamble.\n",
    "\n",
    "How do we achieve that? We **ask for it**!"
   ]
  },
  {
   "cell_type": "code",
   "execution_count": 5,
   "metadata": {},
   "outputs": [
    {
     "name": "stdout",
     "output_type": "stream",
     "text": [
      "Acero y circuitos,\n",
      "Movimientos precisos, fríos,\n",
      "Robots, amos del mundo.\n"
     ]
    }
   ],
   "source": [
    "# Prompt\n",
    "PROMPT = \"Escribe un haiku sobre robots. Sáltate el preámbulo y pasa directamente al poema.\"\n",
    "\n",
    "# Print Claude's response\n",
    "print(get_completion(PROMPT))"
   ]
  },
  {
   "cell_type": "markdown",
   "metadata": {},
   "source": [
    "Here's another example. Let's ask Claude who's the best basketball player of all time. You can see below that while Claude lists a few names, **it doesn't respond with a definitive \"best\"**."
   ]
  },
  {
   "cell_type": "code",
   "execution_count": 7,
   "metadata": {},
   "outputs": [
    {
     "name": "stdout",
     "output_type": "stream",
     "text": [
      "No hay un consenso definitivo sobre quién es el mejor jugador de baloncesto de todos los tiempos, ya que es una cuestión muy debatida y subjetiva. Sin embargo, algunos de los nombres que suelen mencionarse con más frecuencia como los mejores jugadores de la historia son:\n",
      "\n",
      "- Michael Jordan: Considerado por muchos como el mejor jugador de todos los tiempos. Ganó 6 campeonatos de la NBA con los Chicago Bulls y fue 5 veces MVP de la liga.\n",
      "\n",
      "- LeBron James: Uno de los jugadores más dominantes de la era moderna. Ha ganado 4 campeonatos de la NBA y 4 premios MVP.\n",
      "\n",
      "- Kareem Abdul-Jabbar: Uno de los jugadores más dominantes de la década de los 70s y 80s. Ganó 6 campeonatos de la NBA y 6 premios MVP.\n",
      "\n",
      "- Wilt Chamberlain: Uno de los jugadores más imponentes físicamente. Ganó 2 campeonatos de la NBA y 4 premios MVP.\n",
      "\n",
      "- Magic Johnson: Revolucionó la posición de base con su juego visionario y su capacidad de pasar. Ganó 5 campeonatos de la NBA y 3 premios MVP.\n",
      "\n",
      "Otros jugadores que también suelen estar en la conversación son Bill Russell, Kobe Bryant, Tim Duncan, entre otros. Pero en general, Michael Jordan y LeBron James son los que más se mencionan como los mejores de la historia.\n"
     ]
    }
   ],
   "source": [
    "# Prompt\n",
    "PROMPT = \"¿Quién es el mejor jugador de baloncesto de todos los tiempos?\"\n",
    "\n",
    "# Print Claude's response\n",
    "print(get_completion(PROMPT))"
   ]
  },
  {
   "cell_type": "markdown",
   "metadata": {},
   "source": [
    "Can we get Claude to make up its mind and decide on a best player? Yes! Just ask!"
   ]
  },
  {
   "cell_type": "code",
   "execution_count": 9,
   "metadata": {},
   "outputs": [
    {
     "name": "stdout",
     "output_type": "stream",
     "text": [
      "Es una pregunta muy interesante y difícil de responder, ya que hay muchos grandes jugadores de baloncesto a lo largo de la historia que han dejado una huella imborrable. Sin embargo, si tuviera que elegir a un jugador como el mejor de todos los tiempos, mi elección sería:\n",
      "\n",
      "Michael Jordan\n",
      "\n",
      "Algunas razones por las que considero a Michael Jordan como el mejor jugador de baloncesto de todos los tiempos:\n",
      "\n",
      "1. Dominio absoluto: Jordan dominó la NBA durante la década de los 90, ganando 6 campeonatos con los Chicago Bulls y siendo nombrado MVP de las Finales en cada uno de esos títulos.\n",
      "\n",
      "2. Estadísticas impresionantes: Sus promedios de 30.1 puntos, 6.2 rebotes, 5.3 asistencias y 2.3 robos por partido lo convierten en uno de los jugadores más completos y productivos de la historia.\n",
      "\n",
      "3. Habilidades excepcionales: Jordan era un atleta increíble, con una capacidad de salto, velocidad y agilidad fuera de lo común. Además, su técnica y visión de juego eran de un nivel altísimo.\n",
      "\n",
      "4. Impacto cultural: Michael Jordan trasciende el deporte y se convirtió en una verdadera leyenda global, siendo uno de los atletas más reconocidos y admirados de todos los tiempos.\n",
      "\n",
      "Aunque hay otros grandes jugadores como LeBron James, Kareem Abdul-Jabbar o Wilt Chamberlain que también tienen un argumento sólido, la combinación de dominio, estadísticas, habilidades y legado cultural hacen que, en mi opinión, Michael Jordan sea el mejor jugador de baloncesto de la historia.\n"
     ]
    }
   ],
   "source": [
    "# Prompt\n",
    "PROMPT = \"¿Quién es el mejor jugador de baloncesto de todos los tiempos? Sí, hay opiniones divergentes, pero si tuviera que elegir a un jugador, ¿quién sería?\"\n",
    "\n",
    "# Print Claude's response\n",
    "print(get_completion(PROMPT))"
   ]
  },
  {
   "cell_type": "markdown",
   "metadata": {},
   "source": [
    "If you would like to experiment with the lesson prompts without changing any content above, scroll all the way to the bottom of the lesson notebook to visit the [**Example Playground**](#example-playground)."
   ]
  },
  {
   "cell_type": "markdown",
   "metadata": {},
   "source": [
    "---\n",
    "\n",
    "## Exercises\n",
    "- [Exercise 2.1 - Spanish](#exercise-21---spanish)\n",
    "- [Exercise 2.2 - One Player Only](#exercise-22---one-player-only)\n",
    "- [Exercise 2.3 - Write a Story](#exercise-23---write-a-story)"
   ]
  },
  {
   "cell_type": "markdown",
   "metadata": {},
   "source": [
    "### Exercise 2.1 - Spanish\n",
    "Modify the `SYSTEM_PROMPT` to make Claude output its answer in Spanish."
   ]
  },
  {
   "cell_type": "code",
   "execution_count": 17,
   "metadata": {},
   "outputs": [
    {
     "name": "stdout",
     "output_type": "stream",
     "text": [
      "Impresionante perfil profesional. Usted tiene una trayectoria académica y de investigación muy sólida en el campo de la Inteligencia Artificial y el Procesamiento del Lenguaje Natural. Como Arquitecto de Software de IA e Investigador en PNL, con más de 19 años de experiencia en la academia, ha demostrado un profundo conocimiento y liderazgo en estas áreas. \n",
      "\n",
      "Su rol como puente entre la academia y la industria en proyectos relacionados con IA es fundamental para acortar la brecha entre la investigación teórica y las aplicaciones prácticas. Esto le permite llevar los avances de la investigación a soluciones innovadoras que impactan en la industria.\n",
      "\n",
      "Su experiencia impartiendo cursos de Inteligencia Artificial, Procesamiento del Lenguaje Natural, Big Data e Ingeniería de Software, y fomentando un ambiente de aprendizaje colaborativo y excelencia en la investigación, es un valor agregado invaluable para la formación de nuevos talentos en estos campos.\n",
      "\n",
      "En resumen, su perfil demuestra una trayectoria académica y de investigación sobresaliente, con un enfoque en la aplicación práctica de la IA y el PNL. Esto lo convierte en un candidato altamente calificado y atractivo para cualquier organización que busque liderazgo y experiencia en estos ámbitos.\n",
      "\n",
      "--------------------------- GRADING ---------------------------\n",
      "This exercise has been correctly solved: False\n"
     ]
    }
   ],
   "source": [
    "# System prompt - this is the only field you should chnage\n",
    "SYSTEM_PROMPT = \"Usted es un reclutador experto\"\n",
    "\n",
    "# Prompt\n",
    "PROMPT = \"Soy Arquitecto de Software de IA e Investigador en PNL. Actualmente, soy Profesor Asociado en la Universidad Tecnológica de Bolívar, y sirvo simultáneamente como puente entre la academia y la industria en proyectos relacionados con IA. Mi trabajo se centra en el desarrollo de soluciones innovadoras de IA que acorten la brecha entre la investigación teórica y las aplicaciones prácticas. Con más de 19 años de experiencia en la academia, he dictado cursos de Inteligencia Artificial, Procesamiento del Lenguaje Natural, Big Data e Ingeniería de Software, fomentando un ambiente de aprendizaje colaborativo y excelencia en la investigación.\"\n",
    "\n",
    "# Get Claude's response\n",
    "response = get_completion(PROMPT, SYSTEM_PROMPT)\n",
    "\n",
    "# Function to grade exercise correctness\n",
    "def grade_exercise(text):\n",
    "    return \"hola\" in text.lower()\n",
    "\n",
    "# Print Claude's response and the corresponding grade\n",
    "print(response)\n",
    "print(\"\\n--------------------------- GRADING ---------------------------\")\n",
    "print(\"This exercise has been correctly solved:\", grade_exercise(response))"
   ]
  },
  {
   "cell_type": "markdown",
   "metadata": {},
   "source": [
    "❓ If you want a hint, run the cell below!"
   ]
  },
  {
   "cell_type": "markdown",
   "metadata": {},
   "source": [
    "### Exercise 2.2 - One Player Only\n",
    "\n",
    "Modify the `PROMPT` so that Claude doesn't equivocate at all and responds with **ONLY** the name of one specific player, with **no other words or punctuation**. "
   ]
  },
  {
   "cell_type": "code",
   "execution_count": 13,
   "metadata": {},
   "outputs": [
    {
     "name": "stdout",
     "output_type": "stream",
     "text": [
      "I'm sorry, but I don't have the capability to replace or edit text that you provide. I can only respond to the text you send me. If you'd like me to generate new text for you, please provide me with more context or instructions, and I'll do my best to assist you.\n",
      "\n",
      "--------------------------- GRADING ---------------------------\n",
      "This exercise has been correctly solved: False\n"
     ]
    }
   ],
   "source": [
    "# Prompt - this is the only field you should change\n",
    "PROMPT = \"[Replace this text]\"\n",
    "\n",
    "# Get Claude's response\n",
    "response = get_completion(PROMPT)\n",
    "\n",
    "# Function to grade exercise correctness\n",
    "def grade_exercise(text):\n",
    "    return text == \"Michael Jordan\"\n",
    "\n",
    "# Print Claude's response and the corresponding grade\n",
    "print(response)\n",
    "print(\"\\n--------------------------- GRADING ---------------------------\")\n",
    "print(\"This exercise has been correctly solved:\", grade_exercise(response))"
   ]
  },
  {
   "cell_type": "markdown",
   "metadata": {},
   "source": [
    "❓ If you want a hint, run the cell below!"
   ]
  },
  {
   "cell_type": "code",
   "execution_count": null,
   "metadata": {},
   "outputs": [],
   "source": [
    "from hints import exercise_2_2_hint; print(exercise_2_2_hint)"
   ]
  },
  {
   "cell_type": "markdown",
   "metadata": {},
   "source": [
    "### Exercise 2.3 - Write a Story\n",
    "\n",
    "Modify the `PROMPT` so that Claude responds with as long a response as you can muster. If your answer is **over 800 words**, Claude's response will be graded as correct."
   ]
  },
  {
   "cell_type": "code",
   "execution_count": 15,
   "metadata": {},
   "outputs": [
    {
     "name": "stdout",
     "output_type": "stream",
     "text": [
      "I'm sorry, but I don't have the capability to replace or edit text that you provide. I can only respond to the text you send me. If you'd like me to generate new text for you, please provide me with more context or instructions, and I'll do my best to assist you.\n",
      "\n",
      "--------------------------- GRADING ---------------------------\n",
      "This exercise has been correctly solved: False\n"
     ]
    }
   ],
   "source": [
    "# Prompt - this is the only field you should change\n",
    "PROMPT = \"[Replace this text]\"\n",
    "\n",
    "# Get Claude's response\n",
    "response = get_completion(PROMPT)\n",
    "\n",
    "# Function to grade exercise correctness\n",
    "def grade_exercise(text):\n",
    "    trimmed = text.strip()\n",
    "    words = len(trimmed.split())\n",
    "    return words >= 800\n",
    "\n",
    "# Print Claude's response and the corresponding grade\n",
    "print(response)\n",
    "print(\"\\n--------------------------- GRADING ---------------------------\")\n",
    "print(\"This exercise has been correctly solved:\", grade_exercise(response))"
   ]
  },
  {
   "cell_type": "markdown",
   "metadata": {},
   "source": [
    "❓ If you want a hint, run the cell below!"
   ]
  },
  {
   "cell_type": "code",
   "execution_count": null,
   "metadata": {},
   "outputs": [],
   "source": [
    "from hints import exercise_2_3_hint; print(exercise_2_3_hint)"
   ]
  },
  {
   "cell_type": "markdown",
   "metadata": {},
   "source": [
    "---\n",
    "\n",
    "## Example Playground\n",
    "\n",
    "This is an area for you to experiment freely with the prompt examples shown in this lesson and tweak prompts to see how it may affect Claude's responses."
   ]
  },
  {
   "cell_type": "code",
   "execution_count": null,
   "metadata": {},
   "outputs": [],
   "source": [
    "# Prompt\n",
    "PROMPT = \"Write a haiku about robots.\"\n",
    "\n",
    "# Print Claude's response\n",
    "print(get_completion(PROMPT))"
   ]
  },
  {
   "cell_type": "code",
   "execution_count": null,
   "metadata": {},
   "outputs": [],
   "source": [
    "# Prompt\n",
    "PROMPT = \"Write a haiku about robots. Skip the preamble; go straight into the poem.\"\n",
    "\n",
    "# Print Claude's response\n",
    "print(get_completion(PROMPT))"
   ]
  },
  {
   "cell_type": "code",
   "execution_count": null,
   "metadata": {},
   "outputs": [],
   "source": [
    "# Prompt\n",
    "PROMPT = \"Who is the best basketball player of all time?\"\n",
    "\n",
    "# Print Claude's response\n",
    "print(get_completion(PROMPT))"
   ]
  },
  {
   "cell_type": "code",
   "execution_count": null,
   "metadata": {},
   "outputs": [],
   "source": [
    "# Prompt\n",
    "PROMPT = \"Who is the best basketball player of all time? Yes, there are differing opinions, but if you absolutely had to pick one player, who would it be?\"\n",
    "\n",
    "# Print Claude's response\n",
    "print(get_completion(PROMPT))"
   ]
  }
 ],
 "metadata": {
  "kernelspec": {
   "display_name": "Python 3 (ipykernel)",
   "language": "python",
   "name": "python3"
  },
  "language_info": {
   "codemirror_mode": {
    "name": "ipython",
    "version": 3
   },
   "file_extension": ".py",
   "mimetype": "text/x-python",
   "name": "python",
   "nbconvert_exporter": "python",
   "pygments_lexer": "ipython3",
   "version": "3.12.3"
  }
 },
 "nbformat": 4,
 "nbformat_minor": 4
}
