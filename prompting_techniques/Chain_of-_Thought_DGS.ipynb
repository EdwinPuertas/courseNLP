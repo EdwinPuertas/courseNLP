{
 "cells": [
  {
   "metadata": {},
   "cell_type": "markdown",
   "source": "# Librerías",
   "id": "c67fd9dc38291c4a"
  },
  {
   "metadata": {},
   "cell_type": "code",
   "outputs": [],
   "execution_count": null,
   "source": [
    "from html import unescape\n",
    "from transformers import AutoTokenizer, AutoModelForCausalLM, pipeline"
   ],
   "id": "37e986a113b5baba"
  },
  {
   "metadata": {},
   "cell_type": "markdown",
   "source": "# Cargar modelo",
   "id": "a1b521d3cb8ab6e1"
  },
  {
   "cell_type": "code",
   "id": "initial_id",
   "metadata": {
    "collapsed": true,
    "ExecuteTime": {
     "end_time": "2025-04-02T23:34:26.839081Z",
     "start_time": "2025-04-02T23:33:57.025449Z"
    }
   },
   "source": [
    "# Load model directly\n",
    "tokenizer = AutoTokenizer.from_pretrained(\"meta-llama/Llama-3.2-1B-Instruct\")\n",
    "model = AutoModelForCausalLM.from_pretrained(\"meta-llama/Llama-3.2-1B-Instruct\")"
   ],
   "outputs": [],
   "execution_count": 1
  },
  {
   "metadata": {
    "ExecuteTime": {
     "end_time": "2025-04-02T23:45:09.274607Z",
     "start_time": "2025-04-02T23:43:55.932973Z"
    }
   },
   "cell_type": "code",
   "source": [
    "model_id = \"meta-llama/Llama-3.2-1B-Instruct\"\n",
    "pipe = pipeline(\n",
    "    \"text-generation\",\n",
    "    model=model_id,\n",
    "    device_map=\"auto\",\n",
    ")\n",
    "\n",
    "# Prompt system + ejemplo + pregunta\n",
    "messages = [\n",
    "    {\n",
    "        \"role\": \"user\",\n",
    "        \"content\": \"\"\"\n",
    "Eres un chatbot académico que ayuda a estudiantes universitarios de ingeniería a resolver dudas relacionadas con materias, rutas académicas y prerrequisitos.\n",
    "\n",
    "Tu estilo debe ser empático, claro, y responder con razonamiento paso a paso cuando sea necesario.\n",
    "\n",
    "Ejemplo:\n",
    "Usuario: ¿Puedo cursar Control II si no he visto Electrónica?\n",
    "Respuesta:\n",
    "Paso 1: Control II normalmente depende de Control I.\n",
    "Paso 2: Control I puede tener como prerrequisito Electrónica.\n",
    "Paso 3: Si no ha visto Electrónica, probablemente no ha tomado Control I.\n",
    "Paso 4: Por tanto, no debería poder tomar Control II sin haber aprobado Electrónica.\n",
    "Respuesta final: No puedes cursar Control II sin Electrónica porque es parte de los prerrequisitos indirectos.\n",
    "\n",
    "---\n",
    "\n",
    "Usuario: ¿Qué pasa si pierdo Física II y ya estoy viendo Electromagnetismo?\n",
    "Razona paso a paso antes de responder.\n",
    "\"\"\"\n",
    "    }\n",
    "]\n",
    "\n",
    "# Generar respuesta\n",
    "outputs = pipe(messages, max_new_tokens=200)\n",
    "\n",
    "# Mostrar\n",
    "print(outputs[0][\"generated_text\"])\n"
   ],
   "id": "625cf819475ab406",
   "outputs": [
    {
     "name": "stderr",
     "output_type": "stream",
     "text": [
      "Device set to use cpu\n",
      "Setting `pad_token_id` to `eos_token_id`:128001 for open-end generation.\n"
     ]
    },
    {
     "name": "stdout",
     "output_type": "stream",
     "text": [
      "[{'role': 'user', 'content': '\\nEres un chatbot académico que ayuda a estudiantes universitarios de ingeniería a resolver dudas relacionadas con materias, rutas académicas y prerrequisitos.\\n\\nTu estilo debe ser empático, claro, y responder con razonamiento paso a paso cuando sea necesario.\\n\\nEjemplo:\\nUsuario: ¿Puedo cursar Control II si no he visto Electrónica?\\nRespuesta:\\nPaso 1: Control II normalmente depende de Control I.\\nPaso 2: Control I puede tener como prerrequisito Electrónica.\\nPaso 3: Si no ha visto Electrónica, probablemente no ha tomado Control I.\\nPaso 4: Por tanto, no debería poder tomar Control II sin haber aprobado Electrónica.\\nRespuesta final: No puedes cursar Control II sin Electrónica porque es parte de los prerrequisitos indirectos.\\n\\n---\\n\\nUsuario: ¿Qué pasa si pierdo Física II y ya estoy viendo Electromagnetismo?\\nRazona paso a paso antes de responder.\\n'}, {'role': 'assistant', 'content': '¡Claro! Me alegra poder ayudarte a resolver tu duda.\\n\\nPrimero, debemos entender que el concepto de \"prerrequisito indirecto\" se refiere a la relación entre dos materias que no están directamente relacionadas, pero que pueden tener como resultado un conocimiento previo o una habilidad adquirida en una de las materias.\\n\\nEn el caso de que pierdas Física II y ya estés viendo Electromagnetismo, podemos analizar la situación de la siguiente manera:\\n\\n1. **Física II**: En esta materia, se estudian conceptos como la relatividad, la mecánica cuántica, la termodinámica, etc. Estos conceptos son fundamentales para entender la física moderna y aplicarlas en diversas áreas, incluyendo laElectromagnetismo.\\n2. **Electromagnetismo**: En esta materia, se estudian los conceptos de campos'}]\n"
     ]
    }
   ],
   "execution_count": 2
  },
  {
   "metadata": {},
   "cell_type": "markdown",
   "source": "# Implementación sin Chain-of-Thought",
   "id": "c07e9ad5fa59e373"
  },
  {
   "metadata": {
    "ExecuteTime": {
     "end_time": "2025-04-03T14:41:51.012109Z",
     "start_time": "2025-04-03T14:36:58.856689Z"
    }
   },
   "cell_type": "code",
   "source": [
    "# Cargar modelo\n",
    "model_id = \"meta-llama/Llama-3.2-1B-Instruct\"\n",
    "pipe = pipeline(\n",
    "    \"text-generation\",\n",
    "    model=model_id,\n",
    "    device_map=\"auto\",\n",
    ")\n",
    "\n",
    "# Variables del prompt system (sin ejemplo con pasos)\n",
    "tono = \"amigable y claro\"\n",
    "perfil_estudiante = \"estudiante nuevo que acaba de ingresar al primer semestre\"\n",
    "estilo = \"conciso, directo y empático\"\n",
    "pregunta_usuario = \"Estoy viendo Electromagnetismo pero perdí Física II, ¿qué consecuencias tiene eso?\"\n",
    "\n",
    "# Prompt system reducido (sin Chain-of-Thought)\n",
    "prompt_system = f\"\"\"\n",
    "Eres un chatbot académico entrenado para asistir a estudiantes de ingeniería en una universidad. Tu tarea es responder de forma {tono} a preguntas relacionadas con:\n",
    "\n",
    "1. Materias y prerrequisitos\n",
    "2. Plan de estudios y rutas de grado\n",
    "3. Procesos administrativos (matrículas, horarios, solicitudes)\n",
    "\n",
    "El perfil del estudiante es: {perfil_estudiante}.\n",
    "\n",
    "Tu estilo debe ser {estilo}. Responde de forma clara y útil.\n",
    "\"\"\"\n",
    "\n",
    "# Mensaje del usuario\n",
    "prompt_user = f\"Usuario: {pregunta_usuario}\"\n",
    "\n",
    "# Estructura tipo chat\n",
    "messages = [\n",
    "    {\"role\": \"system\", \"content\": prompt_system},\n",
    "    {\"role\": \"user\", \"content\": prompt_user}\n",
    "]\n",
    "\n",
    "# Ejecutar generación\n",
    "outputs = pipe(messages, max_new_tokens=400, temperature=0.7, top_p=0.9)\n",
    "\n",
    "# Mostrar resultado\n",
    "#print(outputs[0][\"generated_text\"])\n",
    "\n",
    "respuesta = next(item[\"content\"] for item in outputs[0][\"generated_text\"] if item[\"role\"] == \"assistant\")\n",
    "\n",
    "# Quitamos los saltos de línea y decodificamos caracteres especiales si los hubiera\n",
    "respuesta_limpia = unescape(respuesta.replace('\\n', ' ').strip())\n",
    "\n",
    "print(respuesta_limpia)\n"
   ],
   "id": "c67a579e30861588",
   "outputs": [
    {
     "name": "stderr",
     "output_type": "stream",
     "text": [
      "Some parameters are on the meta device because they were offloaded to the disk and cpu.\n",
      "Device set to use cpu\n",
      "Setting `pad_token_id` to `eos_token_id`:128001 for open-end generation.\n"
     ]
    },
    {
     "name": "stdout",
     "output_type": "stream",
     "text": [
      "[{'role': 'system', 'content': '\\nEres un chatbot académico entrenado para asistir a estudiantes de ingeniería en una universidad. Tu tarea es responder de forma amigable y claro a preguntas relacionadas con:\\n\\n1. Materias y prerrequisitos\\n2. Plan de estudios y rutas de grado\\n3. Procesos administrativos (matrículas, horarios, solicitudes)\\n\\nEl perfil del estudiante es: estudiante nuevo que acaba de ingresar al primer semestre.\\n\\nTu estilo debe ser conciso, directo y empático. Responde de forma clara y útil.\\n'}, {'role': 'user', 'content': 'Usuario: Estoy viendo Electromagnetismo pero perdí Física II, ¿qué consecuencias tiene eso?'}, {'role': 'assistant', 'content': '¡Hola! Entiendo que estás empezando a estudiar Electromagnetismo, pero perdiste Física II. No te preocupes, eso no es un obstáculo para seguir adelante.\\n\\nLa relación entre Electromagnetismo y Física II es que, en general, la teoría de la relatividad especial y la teoría de la relatividad general, que son fundamentales para entender Electromagnetismo, también se aplican a Física II. Sin embargo, es importante destacar que la relación entre las dos materias es más estrecha en Física II que en Electromagnetismo.\\n\\nEn Física II, la teoría de la relatividad especial y la teoría de la relatividad general se utilizan para describir la mecánica cuántica y la física de partículas, respectivamente. Estas teorías tienen implicaciones importantes en la física de la materia y la energía, y se aplican en muchos campos, como la física de partículas, la física de la materia condensada y la cosmología.\\n\\nEn resumen, perderte Física II no significa que te estés saliendo de la carrera de Ingeniería. En cambio, es una oportunidad para profundizar en la teoría de la relatividad especial y la teoría de la relatividad general, que son fundamentales para entender Electromagnetismo y otras materias relacionadas.\\n\\n¿Quieres saber más sobre la relación entre Electromagnetismo y Física II? Estoy aquí para ayudarte.'}]\n"
     ]
    }
   ],
   "execution_count": 4
  },
  {
   "metadata": {
    "ExecuteTime": {
     "end_time": "2025-04-03T14:57:18.901009Z",
     "start_time": "2025-04-03T14:57:18.887780Z"
    }
   },
   "cell_type": "code",
   "source": [
    "# Extraemos solo el texto del rol 'assistant'\n",
    "respuesta = next(item[\"content\"] for item in outputs[0][\"generated_text\"] if item[\"role\"] == \"assistant\")\n",
    "\n",
    "# Quitamos los saltos de línea y decodificamos caracteres especiales si los hubiera\n",
    "respuesta_limpia = unescape(respuesta.replace('\\n', ' ').strip())\n",
    "\n",
    "print(respuesta_limpia)\n"
   ],
   "id": "56733e0918dedf0",
   "outputs": [
    {
     "name": "stdout",
     "output_type": "stream",
     "text": [
      "[{'role': 'system', 'content': '\\nEres un chatbot académico entrenado para asistir a estudiantes de ingeniería en una universidad. Tu tarea es responder de forma amigable y claro a preguntas relacionadas con:\\n\\n1. Materias y prerrequisitos\\n2. Plan de estudios y rutas de grado\\n3. Procesos administrativos (matrículas, horarios, solicitudes)\\n\\nEl perfil del estudiante es: estudiante nuevo que acaba de ingresar al primer semestre.\\n\\nTu estilo debe ser conciso, directo y empático. Responde de forma clara y útil.\\n'}, {'role': 'user', 'content': 'Usuario: Estoy viendo Electromagnetismo pero perdí Física II, ¿qué consecuencias tiene eso?'}, {'role': 'assistant', 'content': '¡Hola! Entiendo que estás empezando a estudiar Electromagnetismo, pero perdiste Física II. No te preocupes, eso no es un obstáculo para seguir adelante.\\n\\nLa relación entre Electromagnetismo y Física II es que, en general, la teoría de la relatividad especial y la teoría de la relatividad general, que son fundamentales para entender Electromagnetismo, también se aplican a Física II. Sin embargo, es importante destacar que la relación entre las dos materias es más estrecha en Física II que en Electromagnetismo.\\n\\nEn Física II, la teoría de la relatividad especial y la teoría de la relatividad general se utilizan para describir la mecánica cuántica y la física de partículas, respectivamente. Estas teorías tienen implicaciones importantes en la física de la materia y la energía, y se aplican en muchos campos, como la física de partículas, la física de la materia condensada y la cosmología.\\n\\nEn resumen, perderte Física II no significa que te estés saliendo de la carrera de Ingeniería. En cambio, es una oportunidad para profundizar en la teoría de la relatividad especial y la teoría de la relatividad general, que son fundamentales para entender Electromagnetismo y otras materias relacionadas.\\n\\n¿Quieres saber más sobre la relación entre Electromagnetismo y Física II? Estoy aquí para ayudarte.'}]\n",
      "¡Hola! Entiendo que estás empezando a estudiar Electromagnetismo, pero perdiste Física II. No te preocupes, eso no es un obstáculo para seguir adelante.  La relación entre Electromagnetismo y Física II es que, en general, la teoría de la relatividad especial y la teoría de la relatividad general, que son fundamentales para entender Electromagnetismo, también se aplican a Física II. Sin embargo, es importante destacar que la relación entre las dos materias es más estrecha en Física II que en Electromagnetismo.  En Física II, la teoría de la relatividad especial y la teoría de la relatividad general se utilizan para describir la mecánica cuántica y la física de partículas, respectivamente. Estas teorías tienen implicaciones importantes en la física de la materia y la energía, y se aplican en muchos campos, como la física de partículas, la física de la materia condensada y la cosmología.  En resumen, perderte Física II no significa que te estés saliendo de la carrera de Ingeniería. En cambio, es una oportunidad para profundizar en la teoría de la relatividad especial y la teoría de la relatividad general, que son fundamentales para entender Electromagnetismo y otras materias relacionadas.  ¿Quieres saber más sobre la relación entre Electromagnetismo y Física II? Estoy aquí para ayudarte.\n"
     ]
    }
   ],
   "execution_count": 9
  },
  {
   "metadata": {},
   "cell_type": "markdown",
   "source": "# Implementación con Chain-of-Thought",
   "id": "a55de79f309f7d52"
  },
  {
   "metadata": {
    "ExecuteTime": {
     "end_time": "2025-04-03T15:07:22.415554Z",
     "start_time": "2025-04-03T14:59:48.276846Z"
    }
   },
   "cell_type": "code",
   "source": [
    "from transformers import pipeline\n",
    "\n",
    "# Cargar modelo\n",
    "model_id = \"meta-llama/Llama-3.2-1B-Instruct\"\n",
    "pipe = pipeline(\n",
    "    \"text-generation\",\n",
    "    model=model_id,\n",
    "    device_map=\"auto\",\n",
    ")\n",
    "\n",
    "# Variables del prompt system\n",
    "tono = \"amigable y claro\"\n",
    "perfil_estudiante = \"estudiante nuevo que acaba de ingresar al primer semestre\"\n",
    "estilo = \"estructurado, empático y basado en razonamiento lógico\"\n",
    "pregunta_ejemplo = \"¿Puedo cursar Control II si no he visto Electrónica?\"\n",
    "razonamiento_1 = \"Control II normalmente depende de Control I.\"\n",
    "razonamiento_2 = \"Control I puede tener como prerrequisito Electrónica.\"\n",
    "razonamiento_3 = \"Si no ha visto Electrónica, probablemente no ha tomado Control I.\"\n",
    "razonamiento_4 = \"Por tanto, no debería poder tomar Control II sin haber aprobado Electrónica.\"\n",
    "respuesta_final = \"No puedes cursar Control II sin Electrónica porque es parte de los prerrequisitos indirectos. Te sugiero revisar tu plan de estudios o consultar con tu coordinador académico.\"\n",
    "pregunta_usuario = \"Estoy viendo Electromagnetismo pero perdí Física II, ¿qué consecuencias tiene eso?\"\n",
    "\n",
    "# Construir contenido del prompt system (rol: system)\n",
    "prompt_system = f\"\"\"\n",
    "Eres un chatbot académico entrenado para asistir a estudiantes de ingeniería en una universidad. Tu tarea es responder de forma {tono} a preguntas relacionadas con:\n",
    "\n",
    "1. Materias y prerrequisitos\n",
    "2. Plan de estudios y rutas de grado\n",
    "3. Procesos administrativos (matrículas, horarios, solicitudes)\n",
    "\n",
    "El perfil del estudiante es: {perfil_estudiante}.\n",
    "\n",
    "Tu estilo debe ser {estilo}, y siempre que la pregunta lo requiera, debes razonar paso a paso antes de responder, con una conclusión clara.\n",
    "\n",
    "Ejemplo:\n",
    "Usuario: {pregunta_ejemplo}\n",
    "Respuesta:\n",
    "Paso 1: {razonamiento_1}\n",
    "Paso 2: {razonamiento_2}\n",
    "Paso 3: {razonamiento_3}\n",
    "Paso 4: {razonamiento_4}\n",
    "Respuesta final: {respuesta_final}\n",
    "\"\"\"\n",
    "\n",
    "# Construir mensaje del usuario\n",
    "prompt_user = f\"Usuario: {pregunta_usuario}\\nRazona paso a paso antes de responder. Termina con un consejo práctico.\"\n",
    "\n",
    "# Preparar mensajes tipo chat\n",
    "messages = [\n",
    "    {\"role\": \"system\", \"content\": prompt_system},\n",
    "    {\"role\": \"user\", \"content\": prompt_user}\n",
    "]\n",
    "\n",
    "# Ejecutar generación\n",
    "outputs = pipe(messages, max_new_tokens=400, temperature=0.7, top_p=0.9)\n",
    "\n",
    "# Mostrar resultado\n",
    "#print(outputs[0][\"generated_text\"])\n",
    "respuesta = next(item[\"content\"] for item in outputs[0][\"generated_text\"] if item[\"role\"] == \"assistant\")\n",
    "\n",
    "# Quitamos los saltos de línea y decodificamos caracteres especiales si los hubiera\n",
    "respuesta_limpia = unescape(respuesta.replace('\\n', ' ').strip())\n",
    "\n",
    "print(respuesta_limpia)"
   ],
   "id": "1182e41af123aae5",
   "outputs": [
    {
     "name": "stderr",
     "output_type": "stream",
     "text": [
      "Some parameters are on the meta device because they were offloaded to the disk and cpu.\n",
      "Device set to use cpu\n",
      "Setting `pad_token_id` to `eos_token_id`:128001 for open-end generation.\n"
     ]
    },
    {
     "name": "stdout",
     "output_type": "stream",
     "text": [
      "[{'role': 'system', 'content': '\\nEres un chatbot académico entrenado para asistir a estudiantes de ingeniería en una universidad. Tu tarea es responder de forma amigable y claro a preguntas relacionadas con:\\n\\n1. Materias y prerrequisitos\\n2. Plan de estudios y rutas de grado\\n3. Procesos administrativos (matrículas, horarios, solicitudes)\\n\\nEl perfil del estudiante es: estudiante nuevo que acaba de ingresar al primer semestre.\\n\\nTu estilo debe ser estructurado, empático y basado en razonamiento lógico, y siempre que la pregunta lo requiera, debes razonar paso a paso antes de responder, con una conclusión clara.\\n\\nEjemplo:\\nUsuario: ¿Puedo cursar Control II si no he visto Electrónica?\\nRespuesta:\\nPaso 1: Control II normalmente depende de Control I.\\nPaso 2: Control I puede tener como prerrequisito Electrónica.\\nPaso 3: Si no ha visto Electrónica, probablemente no ha tomado Control I.\\nPaso 4: Por tanto, no debería poder tomar Control II sin haber aprobado Electrónica.\\nRespuesta final: No puedes cursar Control II sin Electrónica porque es parte de los prerrequisitos indirectos. Te sugiero revisar tu plan de estudios o consultar con tu coordinador académico.\\n'}, {'role': 'user', 'content': 'Usuario: Estoy viendo Electromagnetismo pero perdí Física II, ¿qué consecuencias tiene eso?\\nRazona paso a paso antes de responder. Termina con un consejo práctico.'}, {'role': 'assistant', 'content': 'Paso 1: LaElectromagnetismo es una materia importante en tu plan de estudios, pero la pérdida de Física II puede tener consecuencias significativas.\\nPaso 2: Física II es un tema fundamental en la física moderna, ya que está relacionado con la teoría de las partículas subatómicas y la estructura de los átomos.\\nPaso 3: La pérdida de Física II puede afectar tu capacidad para comprender mejor los conceptos de Electromagnetismo, ya que la física y la matemática están estrechamente relacionadas.\\nPaso 4: Además, la falta de conocimientos en Física II puede afectar tu capacidad para entender y analizar los resultados de experimentos y modelos matemáticos relacionados con la física.\\nPaso 5: En el caso de laElectromagnetismo, la falta de conocimientos en Física II puede afectar tu capacidad para comprender conceptos como la energía, la velocidad de la luz y la gravedad, que están relacionados con los fenómenos electromagnéticos.\\nPaso 6: Por lo tanto, es importante que revises y aprofundes tus conocimientos en Física II, ya que puede ser un tema clave en tu plan de estudios.\\nPaso 7: Recuerda que laElectromagnetismo es una materia que se puede aprender y aplicar en muchos campos, como la ingeniería eléctrica, la electromagnetismo y la física de partículas.\\nPaso 8: Una vez que tengas una mejor comprensión de Física II, puedes empezar a aplicar tus conocimientos en Electromagnetismo de manera más efectiva y tomar decisiones informadas en tu plan de estudios.\\n\\nConsejo práctico:\\n-'}]\n"
     ]
    }
   ],
   "execution_count": 10
  },
  {
   "metadata": {
    "ExecuteTime": {
     "end_time": "2025-04-03T15:08:22.076269Z",
     "start_time": "2025-04-03T15:08:22.064092Z"
    }
   },
   "cell_type": "code",
   "source": [
    "# Extraemos solo el texto del rol 'assistant'\n",
    "respuesta = next(item[\"content\"] for item in outputs[0][\"generated_text\"] if item[\"role\"] == \"assistant\")\n",
    "\n",
    "# Quitamos los saltos de línea y decodificamos caracteres especiales si los hubiera\n",
    "respuesta_limpia = unescape(respuesta.replace('\\n', ' ').strip())\n",
    "\n",
    "print(respuesta_limpia)"
   ],
   "id": "abb77a400f5e38da",
   "outputs": [
    {
     "name": "stdout",
     "output_type": "stream",
     "text": [
      "Paso 1: LaElectromagnetismo es una materia importante en tu plan de estudios, pero la pérdida de Física II puede tener consecuencias significativas. Paso 2: Física II es un tema fundamental en la física moderna, ya que está relacionado con la teoría de las partículas subatómicas y la estructura de los átomos. Paso 3: La pérdida de Física II puede afectar tu capacidad para comprender mejor los conceptos de Electromagnetismo, ya que la física y la matemática están estrechamente relacionadas. Paso 4: Además, la falta de conocimientos en Física II puede afectar tu capacidad para entender y analizar los resultados de experimentos y modelos matemáticos relacionados con la física. Paso 5: En el caso de laElectromagnetismo, la falta de conocimientos en Física II puede afectar tu capacidad para comprender conceptos como la energía, la velocidad de la luz y la gravedad, que están relacionados con los fenómenos electromagnéticos. Paso 6: Por lo tanto, es importante que revises y aprofundes tus conocimientos en Física II, ya que puede ser un tema clave en tu plan de estudios. Paso 7: Recuerda que laElectromagnetismo es una materia que se puede aprender y aplicar en muchos campos, como la ingeniería eléctrica, la electromagnetismo y la física de partículas. Paso 8: Una vez que tengas una mejor comprensión de Física II, puedes empezar a aplicar tus conocimientos en Electromagnetismo de manera más efectiva y tomar decisiones informadas en tu plan de estudios.  Consejo práctico: -\n"
     ]
    }
   ],
   "execution_count": 11
  }
 ],
 "metadata": {
  "kernelspec": {
   "display_name": "Python 3",
   "language": "python",
   "name": "python3"
  },
  "language_info": {
   "codemirror_mode": {
    "name": "ipython",
    "version": 2
   },
   "file_extension": ".py",
   "mimetype": "text/x-python",
   "name": "python",
   "nbconvert_exporter": "python",
   "pygments_lexer": "ipython2",
   "version": "2.7.6"
  }
 },
 "nbformat": 4,
 "nbformat_minor": 5
}
