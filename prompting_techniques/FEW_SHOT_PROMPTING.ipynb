{
  "nbformat": 4,
  "nbformat_minor": 0,
  "metadata": {
    "colab": {
      "provenance": []
    },
    "kernelspec": {
      "name": "python3",
      "display_name": "Python 3"
    },
    "language_info": {
      "name": "python"
    }
  },
  "cells": [
    {
      "cell_type": "code",
      "source": [
        "##Edder Orlando Quiñones Burgos\n",
        "## FEW SHOT PROMPTING\n",
        "## NLP\n",
        "\n",
        "import openai\n",
        "import os\n",
        "\n",
        "\n",
        "openai.api_key = os.environ.get(\"OPENAI_API_KEY\") #No tenia API\n",
        "\n",
        "def clasificar_sentimiento(texto):\n",
        "    \"\"\"Clasifica el sentimiento de un texto utilizando few-shot prompting.\"\"\"\n",
        "    prompt = f\"\"\"Clasifica el sentimiento de las siguientes frases como positivo, negativo o neutral.\n",
        "\n",
        "Frase: Me encanta este nuevo teléfono.\n",
        "Sentimiento: positivo\n",
        "\n",
        "Frase: Este producto es terrible y no funciona.\n",
        "Sentimiento: negativo\n",
        "\n",
        "Frase: El cielo hoy está nublado.\n",
        "Sentimiento: neutral\n",
        "\n",
        "Frase: {texto}\n",
        "Sentimiento:\"\"\"\n",
        "\n",
        "    response = openai.Completion.create(\n",
        "        model=\"text-davinci-003\",\n",
        "        prompt=prompt,\n",
        "        max_tokens=50,\n",
        "        n=1,\n",
        "        stop=[\"\\n\"]\n",
        "    )\n",
        "\n",
        "    return response.choices[0].text.strip()\n",
        "\n",
        "# Ejemplo de uso\n",
        "texto_a_clasificar = \"Estoy muy feliz con mi compra.\"\n",
        "sentimiento = clasificar_sentimiento(texto_a_clasificar)\n",
        "print(f\"Texto: {texto_a_clasificar}\")\n",
        "print(f\"Sentimiento: {sentimiento}\")\n",
        "\n",
        "texto_a_clasificar = \"Me siento muy decepcionado.\"\n",
        "sentimiento = clasificar_sentimiento(texto_a_clasificar)\n",
        "print(f\"Texto: {texto_a_clasificar}\")\n",
        "print(f\"Sentimiento: {sentimiento}\")"
      ],
      "metadata": {
        "id": "Nw_HMadwtT4O"
      },
      "execution_count": null,
      "outputs": []
    },
    {
      "cell_type": "code",
      "source": [
        "#Ejemplo sencillo sin uso de API para comprender el tema\n",
        "\n",
        "def simular_few_shot_clasificacion_interactivo(prompt_ejemplos):\n",
        "    \"\"\"\n",
        "    Simula interactivamente la clasificación de un animal utilizando few-shot prompting.\n",
        "\n",
        "    Args:\n",
        "        prompt_ejemplos (str): Un string que contiene ejemplos de animales y sus tipos.\n",
        "\n",
        "    Returns:\n",
        "        None\n",
        "    \"\"\"\n",
        "    ejemplos = {}\n",
        "\n",
        "    # Procesar los ejemplos\n",
        "    print(\"Ejemplos proporcionados:\")\n",
        "    for linea in prompt_ejemplos.strip().split(\"\\n\"):\n",
        "        if \":\" in linea:\n",
        "            animal, tipo = linea.split(\":\")\n",
        "            ejemplos[animal.strip().lower()] = tipo.strip().lower()\n",
        "            print(f\"- {animal.strip()}: {tipo.strip()}\")\n",
        "    print(\"-\" * 20)\n",
        "\n",
        "    while True:\n",
        "        animal_a_clasificar = input(\"¿Qué animal quieres clasificar? (o escribe 's' para terminar): \").strip()\n",
        "        if animal_a_clasificar.lower() == 's':\n",
        "            break\n",
        "\n",
        "        if animal_a_clasificar.lower() in ejemplos:\n",
        "            tipo_simulado = ejemplos[animal_a_clasificar.lower()]\n",
        "            print(f\"Simulación: Basándome en los ejemplos, '{animal_a_clasificar}' es un '{tipo_simulado}'.\")\n",
        "        else:\n",
        "            print(f\"Simulación: '{animal_a_clasificar}' no se encontró directamente en los ejemplos. Devolviendo 'desconocido' (una simulación más avanzada intentaría generalizar).\")\n",
        "        print(\"-\" * 20)\n",
        "\n",
        "# Define los ejemplos en un string\n",
        "ejemplos_prompt = \"\"\"Perro: Mamífero\n",
        "Canario: Ave\n",
        "Serpiente: Reptil\n",
        "Gato: Mamífero\n",
        "Pez: Acuático\"\"\"\n",
        "\n",
        "# Llama a la función con los ejemplos\n",
        "simular_few_shot_clasificacion_interactivo(ejemplos_prompt)"
      ],
      "metadata": {
        "colab": {
          "base_uri": "https://localhost:8080/"
        },
        "id": "lzbIAb6telLq",
        "outputId": "872ac05a-812a-4f0d-d033-051b406875d4"
      },
      "execution_count": null,
      "outputs": [
        {
          "name": "stdout",
          "output_type": "stream",
          "text": [
            "Ejemplos proporcionados:\n",
            "- Perro: Mamífero\n",
            "- Canario: Ave\n",
            "- Serpiente: Reptil\n",
            "- Gato: Mamífero\n",
            "- Pez: Acuático\n",
            "--------------------\n",
            "¿Qué animal quieres clasificar? (o escribe 's' para terminar): s\n"
          ]
        }
      ]
    }
  ]
}