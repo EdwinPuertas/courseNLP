{
 "cells": [
  {
   "metadata": {},
   "cell_type": "code",
   "outputs": [],
   "execution_count": null,
   "source": "",
   "id": "8e48f8fa8dbf4d3d"
  },
  {
   "metadata": {},
   "cell_type": "markdown",
   "source": "# Paso 1: Instalación y carga de librerías",
   "id": "93d3fd2b44980e28"
  },
  {
   "metadata": {},
   "cell_type": "code",
   "outputs": [],
   "execution_count": 2,
   "source": "# !pip install scikit-learn matplotlib",
   "id": "3cabd2f57a16356f"
  },
  {
   "metadata": {},
   "cell_type": "markdown",
   "source": "## Importamos las principales librerías de procesamiento, modelado y visualización",
   "id": "62b8d31e5c2a6d2f"
  },
  {
   "metadata": {
    "ExecuteTime": {
     "end_time": "2025-10-28T15:50:38.030709Z",
     "start_time": "2025-10-28T15:50:29.608677Z"
    }
   },
   "cell_type": "code",
   "outputs": [],
   "execution_count": 3,
   "source": [
    "import pandas as pd\n",
    "import numpy as np\n",
    "from sklearn.model_selection import train_test_split\n",
    "from sklearn.feature_extraction.text import TfidfVectorizer\n",
    "from sklearn.naive_bayes import MultinomialNB\n",
    "from sklearn.linear_model import LogisticRegression\n",
    "from sklearn.svm import LinearSVC\n",
    "from sklearn.metrics import classification_report, confusion_matrix\n",
    "import matplotlib.pyplot as plt\n",
    "import seaborn as sns"
   ],
   "id": "b67380361d16aadd"
  },
  {
   "metadata": {},
   "cell_type": "markdown",
   "source": "# Paso 2: Cargar y preparar los datos",
   "id": "498d5376b5239567"
  },
  {
   "metadata": {},
   "cell_type": "markdown",
   "source": "Utilizaremos el dataset IMDB integrado en tensorflow.keras.datasets, pero reconstruiremos los textos para usarlos en scikit-learn.",
   "id": "175bc59c78a7fbc0"
  },
  {
   "metadata": {},
   "cell_type": "code",
   "outputs": [],
   "execution_count": 4,
   "source": "from tensorflow.keras.datasets import imdb",
   "id": "de082c3186725e14"
  },
  {
   "metadata": {},
   "cell_type": "code",
   "outputs": [],
   "execution_count": 5,
   "source": [
    "# Cargar datos\n",
    "(X_train_idx, y_train), (X_test_idx, y_test) = imdb.load_data(num_words=10000)"
   ],
   "id": "8550560c07b14a7f"
  },
  {
   "metadata": {},
   "cell_type": "code",
   "outputs": [],
   "execution_count": 6,
   "source": [
    "# Diccionario para decodificar palabras\n",
    "word_index = imdb.get_word_index()\n",
    "index_word = {i + 3: word for word, i in word_index.items()}\n",
    "index_word[0], index_word[1], index_word[2], index_word[3] = \"<PAD>\", \"<START>\", \"<UNK>\", \"<UNUSED>\""
   ],
   "id": "65150f58cd8b7e89"
  },
  {
   "metadata": {},
   "cell_type": "code",
   "outputs": [],
   "execution_count": 7,
   "source": [
    "def decode_review(sequence):\n",
    "    return ' '.join([index_word.get(i, '?') for i in sequence])"
   ],
   "id": "bcbac5e4e964348e"
  },
  {
   "metadata": {},
   "cell_type": "code",
   "outputs": [],
   "execution_count": 8,
   "source": [
    "# Construir DataFrames con texto y etiquetas\n",
    "df_train = pd.DataFrame({'review': [decode_review(x) for x in X_train_idx], 'label': y_train})\n",
    "df_test = pd.DataFrame({'review': [decode_review(x) for x in X_test_idx], 'label': y_test})"
   ],
   "id": "fb3e40c445b333f4"
  },
  {
   "cell_type": "code",
   "execution_count": 11,
   "id": "a203b22b-5590-4cde-8be7-d6618a62a60e",
   "metadata": {},
   "outputs": [],
   "source": [
    "# Unir y dividir aleatoriamente\n",
    "df = pd.concat([df_train, df_test], ignore_index=True)\n",
    "X = df['review']\n",
    "y = df['label']\n",
    "X_train_texts, X_test_texts, y_train, y_test = train_test_split(X, y, test_size=0.2, random_state=42)"
   ]
  },
  {
   "cell_type": "code",
   "execution_count": 12,
   "id": "9dc7897b-be71-487a-8c39-250cc091aa92",
   "metadata": {},
   "outputs": [
    {
     "data": {
      "text/plain": [
       "0        <START> this film was just brilliant casting l...\n",
       "1        <START> big hair big boobs bad music and a gia...\n",
       "2        <START> this has to be one of the worst films ...\n",
       "3        <START> the <UNK> <UNK> at storytelling the tr...\n",
       "4        <START> worst mistake of my life br br i picke...\n",
       "                               ...                        \n",
       "49995    <START> the book is better than the film mostl...\n",
       "49996    <START> the largest crowd to ever see a wrestl...\n",
       "49997    <START> i suppose that to say this is an all o...\n",
       "49998    <START> in love 2 is the third movie it seemed...\n",
       "49999    <START> a good ol' boy film is almost required...\n",
       "Name: review, Length: 50000, dtype: object"
      ]
     },
     "execution_count": 12,
     "metadata": {},
     "output_type": "execute_result"
    }
   ],
   "source": [
    "X "
   ]
  },
  {
   "cell_type": "markdown",
   "id": "3ba7967f-c390-44b0-8792-beb002719ac3",
   "metadata": {},
   "source": [
    "# Paso 3: Vectorización de texto con TF-IDF"
   ]
  },
  {
   "cell_type": "markdown",
   "id": "5afdabf4-455a-4f08-94c3-a8963b63fa75",
   "metadata": {},
   "source": [
    "Transformamos las reseñas en vectores numéricos usando TfidfVectorizer, que\n",
    "pondera cada palabra según su frecuencia relativa."
   ]
  },
  {
   "cell_type": "code",
   "execution_count": 13,
   "id": "cd1a19a1-478e-4a1d-929a-a51a4cce6310",
   "metadata": {},
   "outputs": [],
   "source": [
    "vectorizer = TfidfVectorizer(max_features=10000)\n",
    "X_train_vec = vectorizer.fit_transform(X_train_texts)\n",
    "X_test_vec = vectorizer.transform(X_test_texts)"
   ]
  },
  {
   "cell_type": "code",
   "execution_count": 14,
   "id": "193b215a-edc1-4892-8609-59d116fb2fbc",
   "metadata": {},
   "outputs": [
    {
     "data": {
      "text/plain": [
       "<Compressed Sparse Row sparse matrix of dtype 'float64'\n",
       "\twith 5061566 stored elements and shape (40000, 9772)>"
      ]
     },
     "execution_count": 14,
     "metadata": {},
     "output_type": "execute_result"
    }
   ],
   "source": [
    "X_train_vec"
   ]
  },
  {
   "cell_type": "markdown",
   "id": "ee518b96-e104-42ba-af69-861160b57fba",
   "metadata": {},
   "source": [
    "# Paso 4: Entrenamiento de modelos clásicos"
   ]
  },
  {
   "cell_type": "markdown",
   "id": "85366fb9-573b-4e55-94c0-152f97b8c61b",
   "metadata": {},
   "source": [
    "Entrenamos tres clasificadores: Naive Bayes, Regresión Logística y SVM Lineal."
   ]
  },
  {
   "cell_type": "code",
   "execution_count": 15,
   "id": "f9405b83-a433-496c-abe3-360a2503d1c1",
   "metadata": {},
   "outputs": [],
   "source": [
    "# Naive Bayes\n",
    "nb_model = MultinomialNB()\n",
    "nb_model.fit(X_train_vec, y_train)\n",
    "y_pred_nb = nb_model.predict(X_test_vec)"
   ]
  },
  {
   "cell_type": "code",
   "execution_count": 16,
   "id": "dffa0f3b-2b20-466c-9a19-558440170a28",
   "metadata": {},
   "outputs": [],
   "source": [
    "# Regresión Logística\n",
    "lr_model = LogisticRegression(max_iter=1000)\n",
    "lr_model.fit(X_train_vec, y_train)\n",
    "y_pred_lr = lr_model.predict(X_test_vec)"
   ]
  },
  {
   "cell_type": "code",
   "execution_count": 17,
   "id": "9a59f95b-1ac4-4656-ab07-ed1c497e684d",
   "metadata": {},
   "outputs": [],
   "source": [
    "# SVM Lineal\n",
    "svm_model = LinearSVC()\n",
    "svm_model.fit(X_train_vec, y_train)\n",
    "y_pred_svm = svm_model.predict(X_test_vec)"
   ]
  },
  {
   "cell_type": "markdown",
   "id": "7316b3a1-a97e-4c8e-98c5-752941344295",
   "metadata": {},
   "source": [
    "# Paso 5: Evaluación del desempeño"
   ]
  },
  {
   "cell_type": "code",
   "execution_count": 18,
   "id": "7d551419-9d66-4d04-8577-4341814f318b",
   "metadata": {},
   "outputs": [
    {
     "name": "stdout",
     "output_type": "stream",
     "text": [
      "Naive Bayes:\n",
      "               precision    recall  f1-score   support\n",
      "\n",
      "           0       0.85      0.86      0.86      4912\n",
      "           1       0.87      0.85      0.86      5088\n",
      "\n",
      "    accuracy                           0.86     10000\n",
      "   macro avg       0.86      0.86      0.86     10000\n",
      "weighted avg       0.86      0.86      0.86     10000\n",
      "\n",
      "Regresión Logística:\n",
      "               precision    recall  f1-score   support\n",
      "\n",
      "           0       0.90      0.88      0.89      4912\n",
      "           1       0.89      0.90      0.90      5088\n",
      "\n",
      "    accuracy                           0.89     10000\n",
      "   macro avg       0.89      0.89      0.89     10000\n",
      "weighted avg       0.89      0.89      0.89     10000\n",
      "\n",
      "SVM:\n",
      "               precision    recall  f1-score   support\n",
      "\n",
      "           0       0.89      0.88      0.89      4912\n",
      "           1       0.89      0.89      0.89      5088\n",
      "\n",
      "    accuracy                           0.89     10000\n",
      "   macro avg       0.89      0.89      0.89     10000\n",
      "weighted avg       0.89      0.89      0.89     10000\n",
      "\n"
     ]
    }
   ],
   "source": [
    "print(\"Naive Bayes:\\n\", classification_report(y_test, y_pred_nb))\n",
    "print(\"Regresión Logística:\\n\", classification_report(y_test, y_pred_lr))\n",
    "print(\"SVM:\\n\", classification_report(y_test, y_pred_svm))"
   ]
  },
  {
   "cell_type": "markdown",
   "id": "d6dc9e6a-9c41-4983-9703-4d0b37d6a6dc",
   "metadata": {},
   "source": [
    "# Paso 6: Visualización con Matriz de Confusión"
   ]
  },
  {
   "cell_type": "code",
   "execution_count": 20,
   "id": "5278e7fd-603b-4750-9217-019a540c751e",
   "metadata": {},
   "outputs": [
    {
     "data": {
      "image/png": "[encoded data removed]",
      "text/plain": [
       "<Figure size 640x480 with 2 Axes>"
      ]
     },
     "metadata": {},
     "output_type": "display_data"
    }
   ],
   "source": [
    "cm = confusion_matrix(y_test, y_pred_lr)\n",
    "sns.heatmap(cm, annot=True, fmt='d', cmap='Blues',\n",
    "xticklabels=['Negativo', 'Positivo'],\n",
    "yticklabels=['Negativo', 'Positivo'])\n",
    "plt.xlabel(\"Predicción\")\n",
    "plt.ylabel(\"Valor real\")\n",
    "plt.title(\"Matriz de Confusión - Regresión Logística\")\n",
    "plt.show()"
   ]
  },
  {
   "cell_type": "code",
   "execution_count": null,
   "id": "e6abdb02-c3e4-45bb-acb2-252609ad2fc3",
   "metadata": {},
   "outputs": [],
   "source": []
  }
 ],
 "metadata": {
  "kernelspec": {
   "display_name": "Python 3 (ipykernel)",
   "language": "python",
   "name": "python3"
  },
  "language_info": {
   "codemirror_mode": {
    "name": "ipython",
    "version": 3
   },
   "file_extension": ".py",
   "mimetype": "text/x-python",
   "name": "python",
   "nbconvert_exporter": "python",
   "pygments_lexer": "ipython3",
   "version": "3.13.5"
  }
 },
 "nbformat": 4,
 "nbformat_minor": 5
}
