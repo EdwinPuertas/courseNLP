{
 "cells": [
  {
   "cell_type": "code",
   "execution_count": 14,
   "id": "c0a4f329",
   "metadata": {},
   "outputs": [],
   "source": [
    "from sklearn.feature_extraction.text import TfidfVectorizer\n",
    "import pandas as pd"
   ]
  },
  {
   "cell_type": "code",
   "execution_count": 15,
   "id": "babf1300",
   "metadata": {},
   "outputs": [],
   "source": [
    "corpus = [\"buena pelicula\", \"no me gusto la pelicula\", \"no me gusto\", \"me gusto la pelicula\", \"buena\"]"
   ]
  },
  {
   "cell_type": "code",
   "execution_count": 16,
   "id": "efb53c31",
   "metadata": {},
   "outputs": [],
   "source": [
    "# using default tokenizer in TfidfVectorizer\n",
    "tfidf = TfidfVectorizer(min_df=1,  ngram_range=(1, 2))\n",
    "features = tfidf.fit_transform(corpus)"
   ]
  },
  {
   "cell_type": "code",
   "execution_count": 17,
   "id": "c80dac9b",
   "metadata": {},
   "outputs": [],
   "source": [
    "df = pd.DataFrame(features.toarray(),\n",
    "                  index=['document '+str(i) for i in range(1, 1+len(corpus))],\n",
    "                  columns=tfidf.get_feature_names())"
   ]
  },
  {
   "cell_type": "code",
   "execution_count": 18,
   "id": "63d5093d",
   "metadata": {},
   "outputs": [
    {
     "data": {
      "text/html": [
       "<div>\n",
       "<style scoped>\n",
       "    .dataframe tbody tr th:only-of-type {\n",
       "        vertical-align: middle;\n",
       "    }\n",
       "\n",
       "    .dataframe tbody tr th {\n",
       "        vertical-align: top;\n",
       "    }\n",
       "\n",
       "    .dataframe thead th {\n",
       "        text-align: right;\n",
       "    }\n",
       "</style>\n",
       "<table border=\"1\" class=\"dataframe\">\n",
       "  <thead>\n",
       "    <tr style=\"text-align: right;\">\n",
       "      <th></th>\n",
       "      <th>buena</th>\n",
       "      <th>buena pelicula</th>\n",
       "      <th>gusto</th>\n",
       "      <th>gusto la</th>\n",
       "      <th>la</th>\n",
       "      <th>la pelicula</th>\n",
       "      <th>me</th>\n",
       "      <th>me gusto</th>\n",
       "      <th>no</th>\n",
       "      <th>no me</th>\n",
       "      <th>pelicula</th>\n",
       "    </tr>\n",
       "  </thead>\n",
       "  <tbody>\n",
       "    <tr>\n",
       "      <th>document 1</th>\n",
       "      <td>0.556816</td>\n",
       "      <td>0.690159</td>\n",
       "      <td>0.000000</td>\n",
       "      <td>0.000000</td>\n",
       "      <td>0.000000</td>\n",
       "      <td>0.000000</td>\n",
       "      <td>0.000000</td>\n",
       "      <td>0.000000</td>\n",
       "      <td>0.000000</td>\n",
       "      <td>0.000000</td>\n",
       "      <td>0.462208</td>\n",
       "    </tr>\n",
       "    <tr>\n",
       "      <th>document 2</th>\n",
       "      <td>0.000000</td>\n",
       "      <td>0.000000</td>\n",
       "      <td>0.298058</td>\n",
       "      <td>0.359067</td>\n",
       "      <td>0.359067</td>\n",
       "      <td>0.359067</td>\n",
       "      <td>0.298058</td>\n",
       "      <td>0.298058</td>\n",
       "      <td>0.359067</td>\n",
       "      <td>0.359067</td>\n",
       "      <td>0.298058</td>\n",
       "    </tr>\n",
       "    <tr>\n",
       "      <th>document 3</th>\n",
       "      <td>0.000000</td>\n",
       "      <td>0.000000</td>\n",
       "      <td>0.411605</td>\n",
       "      <td>0.000000</td>\n",
       "      <td>0.000000</td>\n",
       "      <td>0.000000</td>\n",
       "      <td>0.411605</td>\n",
       "      <td>0.411605</td>\n",
       "      <td>0.495855</td>\n",
       "      <td>0.495855</td>\n",
       "      <td>0.000000</td>\n",
       "    </tr>\n",
       "    <tr>\n",
       "      <th>document 4</th>\n",
       "      <td>0.000000</td>\n",
       "      <td>0.000000</td>\n",
       "      <td>0.345985</td>\n",
       "      <td>0.416804</td>\n",
       "      <td>0.416804</td>\n",
       "      <td>0.416804</td>\n",
       "      <td>0.345985</td>\n",
       "      <td>0.345985</td>\n",
       "      <td>0.000000</td>\n",
       "      <td>0.000000</td>\n",
       "      <td>0.345985</td>\n",
       "    </tr>\n",
       "    <tr>\n",
       "      <th>document 5</th>\n",
       "      <td>1.000000</td>\n",
       "      <td>0.000000</td>\n",
       "      <td>0.000000</td>\n",
       "      <td>0.000000</td>\n",
       "      <td>0.000000</td>\n",
       "      <td>0.000000</td>\n",
       "      <td>0.000000</td>\n",
       "      <td>0.000000</td>\n",
       "      <td>0.000000</td>\n",
       "      <td>0.000000</td>\n",
       "      <td>0.000000</td>\n",
       "    </tr>\n",
       "  </tbody>\n",
       "</table>\n",
       "</div>"
      ],
      "text/plain": [
       "               buena  buena pelicula     gusto  gusto la        la  \\\n",
       "document 1  0.556816        0.690159  0.000000  0.000000  0.000000   \n",
       "document 2  0.000000        0.000000  0.298058  0.359067  0.359067   \n",
       "document 3  0.000000        0.000000  0.411605  0.000000  0.000000   \n",
       "document 4  0.000000        0.000000  0.345985  0.416804  0.416804   \n",
       "document 5  1.000000        0.000000  0.000000  0.000000  0.000000   \n",
       "\n",
       "            la pelicula        me  me gusto        no     no me  pelicula  \n",
       "document 1     0.000000  0.000000  0.000000  0.000000  0.000000  0.462208  \n",
       "document 2     0.359067  0.298058  0.298058  0.359067  0.359067  0.298058  \n",
       "document 3     0.000000  0.411605  0.411605  0.495855  0.495855  0.000000  \n",
       "document 4     0.416804  0.345985  0.345985  0.000000  0.000000  0.345985  \n",
       "document 5     0.000000  0.000000  0.000000  0.000000  0.000000  0.000000  "
      ]
     },
     "execution_count": 18,
     "metadata": {},
     "output_type": "execute_result"
    }
   ],
   "source": [
    "df"
   ]
  },
  {
   "cell_type": "code",
   "execution_count": null,
   "id": "d5e45e4e",
   "metadata": {},
   "outputs": [],
   "source": []
  }
 ],
 "metadata": {
  "kernelspec": {
   "display_name": "Python 3 (ipykernel)",
   "language": "python",
   "name": "python3"
  },
  "language_info": {
   "codemirror_mode": {
    "name": "ipython",
    "version": 3
   },
   "file_extension": ".py",
   "mimetype": "text/x-python",
   "name": "python",
   "nbconvert_exporter": "python",
   "pygments_lexer": "ipython3",
   "version": "3.12.3"
  }
 },
 "nbformat": 4,
 "nbformat_minor": 5
}
