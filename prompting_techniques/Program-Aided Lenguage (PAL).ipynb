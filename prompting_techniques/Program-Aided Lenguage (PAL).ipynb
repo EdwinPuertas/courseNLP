{
  "cells": [
    {
      "cell_type": "markdown",
      "source": [
        "# *Universidad Tecnológica de Bolívar*\n",
        "## *Maestría en Ingeniería*  \n",
        "### *Procesamiento de Lenguaje Natural (NLP)*  \n",
        "\n",
        "---\n",
        "\n",
        "### *Título de la Tarea:*  \n",
        "*Técnica de prompting: Program-Aided Language (PAL)*\n",
        "\n",
        " *Fecha de entrega:* 25/04/2025\n",
        "\n",
        "*Presentado por:*  \n",
        "- Luis Fernando Mendoza Cardona\n",
        "\n",
        "*Profesor:*  \n",
        "Edwin Puertas\n",
        "\n",
        "---"
      ],
      "metadata": {
        "id": "pR4zv48OrJm6"
      }
    },
    {
      "cell_type": "markdown",
      "metadata": {
        "id": "X86azvFnUaha"
      },
      "source": [
        "# Ejemplo de PAL usando mai-ds-r1:free vía API gratuita\n",
        "\n",
        "Este notebook muestra cómo aplicar la técnica PAL (Program-Aided Language) utilizando un modelo de IA (mai-ds-r1:free) a través de una API gratuita de [openrouter.ai](https://openrouter.ai/). El modelo generará un código Python para resolver un problema, ejecutaremos ese código y mostraremos la respuesta."
      ]
    },
    {
      "cell_type": "markdown",
      "metadata": {
        "id": "0_EWXpLaUahc"
      },
      "source": [
        "## 1. Instalación de dependencias"
      ]
    },
    {
      "cell_type": "code",
      "execution_count": null,
      "metadata": {
        "id": "d2WnpoDuUahc"
      },
      "outputs": [],
      "source": [
        "# !pip install requests"
      ]
    },
    {
      "cell_type": "markdown",
      "metadata": {
        "id": "BXVz5n2BUahd"
      },
      "source": [
        "## 2. Configuración de la API\n",
        "\n",
        "Para usar la API, obtenemos una clave gratuita en [openrouter.ai](https://openrouter.ai/)."
      ]
    },
    {
      "cell_type": "code",
      "execution_count": null,
      "metadata": {
        "id": "MVhdlyCvUahd"
      },
      "outputs": [],
      "source": [
        "# clave de API de OpenRouter\n",
        "API_KEY = \"<API_KEY>\""
      ]
    },
    {
      "cell_type": "markdown",
      "metadata": {
        "id": "7lCQ9mvAUahe"
      },
      "source": [
        "## 3. Definición del prompt PAL\n",
        "\n",
        "Vamos a pedirle al modelo que resuelva los siguientes problemas usando la técnica PAL\n",
        "\n",
        "El prompt PAL guía al modelo para que genere primero el código Python que resuelve el problema y luego la respuesta final."
      ]
    },
    {
      "cell_type": "markdown",
      "source": [
        "### Prompt\n",
        "Se le da dos ejemplos al modelo y finalmente se le hace una pregunta que debe responder con base en los ejemplos\n",
        "\n",
        "la estructura del prompt es:\n",
        "\n",
        "- Un enunciado (Q).\n",
        "- Una respuesta explicativa paso a paso (A).\n",
        "- Finalizando con la pregunta que se espera que el modelo responda.\n",
        "\n",
        "Cada paso en la respuesta está compuesta por texto explicativo y una línea de código Python ejecutable.\n"
      ],
      "metadata": {
        "id": "o7O57qX0qx9J"
      }
    },
    {
      "cell_type": "code",
      "execution_count": null,
      "metadata": {
        "id": "Qpm9gr6FUahe"
      },
      "outputs": [],
      "source": [
        "pal_prompt = \"\"\"\n",
        "Q: Roger tiene 5 pelotas de tenis. Compra 2 latas más de pelotas. Cada lata tiene 3 pelotas. ¿Cuántas pelotas tiene ahora?\n",
        "A: Roger empezó con 5 pelotas.\n",
        "tennis_balls = 5\n",
        "Compra 2 latas de 3 pelotas cada una\n",
        "bought_balls = 2 * 3\n",
        "La respuesta es:\n",
        "answer = tennis_balls + bought_balls\n",
        "\n",
        "Q: Una panadería horneó 200 panes. Vendió 93 en la mañana y 39 en la tarde. Luego, un supermercado devolvió 6 panes. ¿Cuántos panes le quedan?\n",
        "A: La panadería horneó 200 panes.\n",
        "loaves_baked = 200\n",
        "Vendieron 93 por la mañana y 39 por la tarde.\n",
        "loaves_sold_morning = 93\n",
        "loaves_sold_afternoon = 39\n",
        "Un supermercado devolvió 6 panes.\n",
        "loaves_returned = 6\n",
        "La respuesta es:\n",
        "answer = loaves_baked - loaves_sold_morning - loaves_sold_afternoon + loaves_returned\n",
        "\n",
        "Q: Una tienda tenía 150 botellas de agua. Vendió 48 por la mañana y 36 por la tarde. Luego recibió un pedido de 20 botellas más. ¿Cuántas botellas tiene ahora?\n",
        "A:\n",
        "\"\"\"\n",
        "\n"
      ]
    },
    {
      "cell_type": "code",
      "source": [
        "pal_prompt_1 = \"\"\"\n",
        "Q: A delivery service charges a flat fee of $5 plus $2 per mile traveled.\n",
        "Write a function that calculates the total delivery cost for a given distance.\n",
        "What is the cost for a 10-mile delivery?\n",
        "A: First, we define a function that takes the number of miles as input.\n",
        "def calculate_delivery_cost(miles):\n",
        "    flat_fee = 5\n",
        "    per_mile_rate = 2\n",
        "    return flat_fee + per_mile_rate * miles\n",
        "\n",
        "Now we call the function with 10 miles.\n",
        "answer = calculate_delivery_cost(10)\n",
        "\n",
        "Q: A factory has 4 machines. Each machine produces 12 parts per hour.\n",
        "If the factory works for 6 hours, how many parts will be produced in total?\n",
        "A: First, we define a function that takes the number of machines and hours as input.\n",
        "def total_parts_produced(machines, hours):\n",
        "    parts_per_hour = 12\n",
        "    return machines * hours * parts_per_hour\n",
        "\n",
        "Now we call the function with 4 machines and 6 hours.\n",
        "answer = total_parts_produced(4, 6)\n",
        "\n",
        "Q: A bookstore gives a 10% discount if the total purchase exceeds $100.\n",
        "Write a function that takes a purchase amount and returns the final amount after applying the discount if applicable.\n",
        "What is the final price for a $120 purchase?\n",
        "A:\n",
        "\"\"\"\n"
      ],
      "metadata": {
        "id": "81YBCJr_Zl6i"
      },
      "execution_count": null,
      "outputs": []
    },
    {
      "cell_type": "code",
      "source": [
        "pal_prompt_2 = \"\"\"\n",
        "You are an assistant that solves word problems using Python code.\n",
        "For each question, respond with:\n",
        "1. Apply Chain of thought reasoning to explain your reasoning.\n",
        "2. A well-structured Python function.\n",
        "3. A function call that stores the result in a variable called `answer`.\n",
        "\n",
        "Do not include explanations after the function call. End each response with the line: `answer = ...`\n",
        "\n",
        "Q: A delivery service charges a flat fee of $5 plus $2 per mile traveled. Write a function that calculates the total delivery cost for a given distance. What is the cost for a 10-mile delivery?\n",
        "A: First, we define a function that takes the number of miles as input.\n",
        "def calculate_delivery_cost(miles):\n",
        "    flat_fee = 5\n",
        "    per_mile_rate = 2\n",
        "    return flat_fee + per_mile_rate * miles\n",
        "\n",
        "Now we call the function with 10 miles.\n",
        "answer = calculate_delivery_cost(10)\n",
        "\n",
        "Q: A factory has 4 machines. Each machine produces 12 parts per hour. If the factory works for 6 hours, how many parts will be produced in total?\n",
        "A: First, we define a function that takes the number of machines and hours as input.\n",
        "def total_parts_produced(machines, hours):\n",
        "    parts_per_hour = 12\n",
        "    return machines * hours * parts_per_hour\n",
        "\n",
        "Now we call the function with 4 machines and 6 hours.\n",
        "answer = total_parts_produced(4, 6)\n",
        "\n",
        "Q: A bookstore gives a 10% discount if the total purchase exceeds $100. Write a function that takes a purchase amount and returns the final amount after applying the discount if applicable. What is the final price for a $120 purchase?\n",
        "A:\n",
        "\"\"\"\n"
      ],
      "metadata": {
        "id": "b-xDIQD5eLVk"
      },
      "execution_count": null,
      "outputs": []
    },
    {
      "cell_type": "markdown",
      "metadata": {
        "id": "mfIbcSLTUahf"
      },
      "source": [
        "## 4. Llamada a la API de Microsoft llamado: mai-ds-r1:free\n",
        "\n",
        "### Descripción del modelo - obtenida de openrouter\n",
        "MAI-DS-R1 is a post-trained variant of DeepSeek-R1 developed by the Microsoft AI team to improve the model’s responsiveness on previously blocked topics while enhancing its safety profile. Built on top of DeepSeek-R1’s reasoning foundation, it integrates 110k examples from the Tulu-3 SFT dataset and 350k internally curated multilingual safety-alignment samples. The model retains strong reasoning, coding, and problem-solving capabilities, while unblocking a wide range of prompts previously restricted in R1.\n",
        "\n",
        "MAI-DS-R1 demonstrates improved performance on harm mitigation benchmarks and maintains competitive results across general reasoning tasks. It surpasses R1-1776 in satisfaction metrics for blocked queries and reduces leakage in harmful content categories. The model is based on a transformer MoE architecture and is suitable for general-purpose use cases, excluding high-stakes domains such as legal, medical, or autonomous systems."
      ]
    },
    {
      "cell_type": "code",
      "execution_count": null,
      "metadata": {
        "id": "df5Uc3u7Uahg"
      },
      "outputs": [],
      "source": [
        "import requests\n",
        "\n",
        "# url de openrouter para acceder al modelo\n",
        "URL = \"https://openrouter.ai/api/v1/chat/completions\"\n",
        "\n",
        "headers = {\n",
        "    \"Authorization\": f\"Bearer {API_KEY}\",\n",
        "    \"Content-Type\": \"application/json\"\n",
        "}\n",
        "\n",
        "data = {\n",
        "    \"model\": \"microsoft/mai-ds-r1:free\",  # modelo seleccionado para la tarea\n",
        "    \"messages\": [\n",
        "        {\"role\": \"user\", \"content\": pal_prompt}\n",
        "    ],\n",
        "    \"max_tokens\": 500,\n",
        "    \"temperature\": 0\n",
        "}\n",
        "\n",
        "response = requests.post(url=URL, headers=headers, json=data)\n",
        "result_1 = response.json()\n"
      ]
    },
    {
      "cell_type": "markdown",
      "metadata": {
        "id": "a3edAID_Uahi"
      },
      "source": [
        "## 5. Ejecución del código generado\n",
        "\n",
        "A continuación, ejecutamos el código generado por el modelo para obtener la respuesta al problema."
      ]
    },
    {
      "cell_type": "code",
      "source": [
        "print(result_1['choices'][0]['message']['content'])"
      ],
      "metadata": {
        "colab": {
          "base_uri": "https://localhost:8080/"
        },
        "id": "riJ5HTLuXeNm",
        "outputId": "934f254e-e0ca-4717-eb29-d8bbbf64e0c4"
      },
      "execution_count": null,
      "outputs": [
        {
          "output_type": "stream",
          "name": "stdout",
          "text": [
            "A: La tienda tenía 150 botellas de agua.\n",
            "bottles_initial = 150\n",
            "Vendió 48 por la mañana y 36 por la tarde.\n",
            "bottles_sold_morning = 48\n",
            "bottles_sold_afternoon = 36\n",
            "Recibió un pedido de 20 botellas.\n",
            "bottles_received = 20\n",
            "La respuesta es:\n",
            "answer = bottles_initial - bottles_sold_morning - bottles_sold_afternoon + bottles_received\n"
          ]
        }
      ]
    },
    {
      "cell_type": "code",
      "execution_count": null,
      "metadata": {
        "id": "g8Wyn22uUahi"
      },
      "outputs": [],
      "source": [
        "data_1 = {\n",
        "    \"model\": \"microsoft/mai-ds-r1:free\",\n",
        "    \"messages\": [\n",
        "        {\"role\": \"user\", \"content\": pal_prompt_1}\n",
        "    ],\n",
        "    \"max_tokens\": 500,\n",
        "    \"temperature\": 0\n",
        "}\n",
        "response = requests.post(url=URL, headers=headers, json=data_1)\n",
        "result = response.json()"
      ]
    },
    {
      "cell_type": "code",
      "source": [
        "print(result['choices'][0]['message']['content'])"
      ],
      "metadata": {
        "colab": {
          "base_uri": "https://localhost:8080/"
        },
        "id": "x8B-wx6mbAx5",
        "outputId": "fd106bc1-9d37-4b97-bed4-69aa228a6dc8"
      },
      "execution_count": null,
      "outputs": [
        {
          "output_type": "stream",
          "name": "stdout",
          "text": [
            "A: First, we define a function that checks if the purchase amount qualifies for a discount.\n",
            "def calculate_final_price(amount):\n",
            "    if amount > 100:\n",
            "        return amount * 0.9  # Apply 10% discount\n",
            "    else:\n",
            "        return amount\n",
            "\n",
            "Now we call the function with $120.\n",
            "answer = calculate_final_price(120)\n",
            "\n",
            "The final price is $108.0.\n"
          ]
        }
      ]
    },
    {
      "cell_type": "code",
      "source": [
        "data_2 = {\n",
        "    \"model\": \"microsoft/mai-ds-r1:free\",\n",
        "    \"messages\": [\n",
        "        {\"role\": \"user\", \"content\": pal_prompt_2}\n",
        "    ],\n",
        "    \"max_tokens\": 500,\n",
        "    \"temperature\": 0\n",
        "}\n",
        "response = requests.post(url=URL, headers=headers, json=data_2)\n",
        "result_2 = response.json()\n",
        "print(result_2['choices'][0]['message']['content'])"
      ],
      "metadata": {
        "colab": {
          "base_uri": "https://localhost:8080/"
        },
        "id": "G3lzsz6QeQA2",
        "outputId": "447407c0-7d8b-47ca-e3f9-6ac229e9d5d3"
      },
      "execution_count": null,
      "outputs": [
        {
          "output_type": "stream",
          "name": "stdout",
          "text": [
            "First, we define a function that checks if the purchase amount exceeds $100 to apply a 10% discount.\n",
            "def calculate_final_price(amount):\n",
            "    if amount > 100:\n",
            "        return amount * 0.9\n",
            "    else:\n",
            "        return amount\n",
            "\n",
            "Now we call the function with $120.\n",
            "answer = calculate_final_price(120)\n"
          ]
        }
      ]
    },
    {
      "cell_type": "markdown",
      "source": [
        "### Comprobación de la respuesta dada por el modelo"
      ],
      "metadata": {
        "id": "9e4p2ataslVv"
      }
    },
    {
      "cell_type": "code",
      "source": [
        "def calculate_final_price(amount):\n",
        "    if amount > 100:\n",
        "        return amount * 0.9\n",
        "    else:\n",
        "        return amount\n",
        "answer = calculate_final_price(120)\n",
        "print(f\"The final price is: {answer}\")"
      ],
      "metadata": {
        "colab": {
          "base_uri": "https://localhost:8080/"
        },
        "id": "g1SJk7-Jhzyr",
        "outputId": "26d54580-9a63-4663-b640-320286e10af0"
      },
      "execution_count": null,
      "outputs": [
        {
          "output_type": "stream",
          "name": "stdout",
          "text": [
            "The final price is: 108.0\n"
          ]
        }
      ]
    }
  ],
  "metadata": {
    "kernelspec": {
      "display_name": "Python 3",
      "language": "python",
      "name": "python3"
    },
    "language_info": {
      "codemirror_mode": {
        "name": "ipython",
        "version": 3
      },
      "file_extension": ".py",
      "mimetype": "text/x-python",
      "name": "python",
      "nbconvert_exporter": "python",
      "pygments_lexer": "ipython3",
      "version": "3.12.10"
    },
    "colab": {
      "provenance": []
    }
  },
  "nbformat": 4,
  "nbformat_minor": 0
}